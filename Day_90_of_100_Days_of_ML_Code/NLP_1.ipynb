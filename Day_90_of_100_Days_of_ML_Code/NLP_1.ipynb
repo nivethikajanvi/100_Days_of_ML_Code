{
  "nbformat": 4,
  "nbformat_minor": 0,
  "metadata": {
    "colab": {
      "name": "NLP 1.ipynb",
      "provenance": []
    },
    "kernelspec": {
      "name": "python3",
      "display_name": "Python 3"
    }
  },
  "cells": [
    {
      "cell_type": "code",
      "metadata": {
        "id": "pT3y-8yqMAif"
      },
      "source": [
        "import os\n",
        "import nltk\n",
        "import nltk.corpus"
      ],
      "execution_count": 4,
      "outputs": []
    },
    {
      "cell_type": "code",
      "metadata": {
        "id": "7XV4Dw_uNJMw",
        "outputId": "7383c14e-8aef-4dad-d5ed-6d4f7dc16d30",
        "colab": {
          "base_uri": "https://localhost:8080/"
        }
      },
      "source": [
        "dir(nltk.corpus)"
      ],
      "execution_count": 8,
      "outputs": [
        {
          "output_type": "execute_result",
          "data": {
            "text/plain": [
              "['AlignedCorpusReader',\n",
              " 'AlpinoCorpusReader',\n",
              " 'BNCCorpusReader',\n",
              " 'BracketParseCorpusReader',\n",
              " 'CHILDESCorpusReader',\n",
              " 'CMUDictCorpusReader',\n",
              " 'CategorizedBracketParseCorpusReader',\n",
              " 'CategorizedCorpusReader',\n",
              " 'CategorizedPlaintextCorpusReader',\n",
              " 'CategorizedSentencesCorpusReader',\n",
              " 'CategorizedTaggedCorpusReader',\n",
              " 'ChasenCorpusReader',\n",
              " 'ChunkedCorpusReader',\n",
              " 'ComparativeSentencesCorpusReader',\n",
              " 'ConllChunkCorpusReader',\n",
              " 'ConllCorpusReader',\n",
              " 'CorpusReader',\n",
              " 'CrubadanCorpusReader',\n",
              " 'DependencyCorpusReader',\n",
              " 'EuroparlCorpusReader',\n",
              " 'FramenetCorpusReader',\n",
              " 'IEERCorpusReader',\n",
              " 'IPIPANCorpusReader',\n",
              " 'IndianCorpusReader',\n",
              " 'KNBCorpusReader',\n",
              " 'LazyCorpusLoader',\n",
              " 'LinThesaurusCorpusReader',\n",
              " 'MTECorpusReader',\n",
              " 'MWAPPDBCorpusReader',\n",
              " 'MacMorphoCorpusReader',\n",
              " 'NKJPCorpusReader',\n",
              " 'NPSChatCorpusReader',\n",
              " 'NombankCorpusReader',\n",
              " 'NonbreakingPrefixesCorpusReader',\n",
              " 'OpinionLexiconCorpusReader',\n",
              " 'PPAttachmentCorpusReader',\n",
              " 'PanLexLiteCorpusReader',\n",
              " 'Pl196xCorpusReader',\n",
              " 'PlaintextCorpusReader',\n",
              " 'PortugueseCategorizedPlaintextCorpusReader',\n",
              " 'PropbankCorpusReader',\n",
              " 'ProsConsCorpusReader',\n",
              " 'RTECorpusReader',\n",
              " 'RegexpTokenizer',\n",
              " 'ReviewsCorpusReader',\n",
              " 'SemcorCorpusReader',\n",
              " 'SensevalCorpusReader',\n",
              " 'SentiSynset',\n",
              " 'SentiWordNetCorpusReader',\n",
              " 'SinicaTreebankCorpusReader',\n",
              " 'StringCategoryCorpusReader',\n",
              " 'SwadeshCorpusReader',\n",
              " 'SwitchboardCorpusReader',\n",
              " 'SyntaxCorpusReader',\n",
              " 'TEICorpusView',\n",
              " 'TaggedCorpusReader',\n",
              " 'TimitCorpusReader',\n",
              " 'TimitTaggedCorpusReader',\n",
              " 'ToolboxCorpusReader',\n",
              " 'TwitterCorpusReader',\n",
              " 'UdhrCorpusReader',\n",
              " 'UnicharsCorpusReader',\n",
              " 'VerbnetCorpusReader',\n",
              " 'WordListCorpusReader',\n",
              " 'WordNetCorpusReader',\n",
              " 'WordNetICCorpusReader',\n",
              " 'XMLCorpusReader',\n",
              " 'YCOECorpusReader',\n",
              " '_LazyModule__lazymodule_globals',\n",
              " '_LazyModule__lazymodule_import',\n",
              " '_LazyModule__lazymodule_init',\n",
              " '_LazyModule__lazymodule_loaded',\n",
              " '_LazyModule__lazymodule_locals',\n",
              " '_LazyModule__lazymodule_name',\n",
              " '__builtins__',\n",
              " '__cached__',\n",
              " '__class__',\n",
              " '__delattr__',\n",
              " '__dict__',\n",
              " '__dir__',\n",
              " '__doc__',\n",
              " '__eq__',\n",
              " '__file__',\n",
              " '__format__',\n",
              " '__ge__',\n",
              " '__getattr__',\n",
              " '__getattribute__',\n",
              " '__gt__',\n",
              " '__hash__',\n",
              " '__init__',\n",
              " '__init_subclass__',\n",
              " '__lazymodule_loaded',\n",
              " '__le__',\n",
              " '__loader__',\n",
              " '__lt__',\n",
              " '__module__',\n",
              " '__name__',\n",
              " '__ne__',\n",
              " '__new__',\n",
              " '__package__',\n",
              " '__path__',\n",
              " '__reduce__',\n",
              " '__reduce_ex__',\n",
              " '__repr__',\n",
              " '__setattr__',\n",
              " '__sizeof__',\n",
              " '__spec__',\n",
              " '__str__',\n",
              " '__subclasshook__',\n",
              " '__weakref__',\n",
              " 'abc',\n",
              " 'alpino',\n",
              " 'brown',\n",
              " 'cess_cat',\n",
              " 'cess_esp',\n",
              " 'cmudict',\n",
              " 'comparative_sentences',\n",
              " 'comtrans',\n",
              " 'conll2000',\n",
              " 'conll2002',\n",
              " 'conll2007',\n",
              " 'crubadan',\n",
              " 'demo',\n",
              " 'dependency_treebank',\n",
              " 'find_corpus_fileids',\n",
              " 'floresta',\n",
              " 'framenet',\n",
              " 'framenet15',\n",
              " 'gazetteers',\n",
              " 'genesis',\n",
              " 'gutenberg',\n",
              " 'ieer',\n",
              " 'inaugural',\n",
              " 'indian',\n",
              " 'jeita',\n",
              " 'knbc',\n",
              " 'lin_thesaurus',\n",
              " 'mac_morpho',\n",
              " 'machado',\n",
              " 'masc_tagged',\n",
              " 'movie_reviews',\n",
              " 'multext_east',\n",
              " 'names',\n",
              " 'nombank',\n",
              " 'nombank_ptb',\n",
              " 'nonbreaking_prefixes',\n",
              " 'nps_chat',\n",
              " 'opinion_lexicon',\n",
              " 'perluniprops',\n",
              " 'ppattach',\n",
              " 'product_reviews_1',\n",
              " 'product_reviews_2',\n",
              " 'propbank',\n",
              " 'propbank_ptb',\n",
              " 'pros_cons',\n",
              " 'ptb',\n",
              " 'qc',\n",
              " 're',\n",
              " 'reader',\n",
              " 'reuters',\n",
              " 'rte',\n",
              " 'semcor',\n",
              " 'senseval',\n",
              " 'sentence_polarity',\n",
              " 'sentiwordnet',\n",
              " 'shakespeare',\n",
              " 'sinica_treebank',\n",
              " 'state_union',\n",
              " 'stopwords',\n",
              " 'subjectivity',\n",
              " 'swadesh',\n",
              " 'swadesh110',\n",
              " 'swadesh207',\n",
              " 'switchboard',\n",
              " 'tagged_treebank_para_block_reader',\n",
              " 'teardown_module',\n",
              " 'timit',\n",
              " 'timit_tagged',\n",
              " 'toolbox',\n",
              " 'treebank',\n",
              " 'treebank_chunk',\n",
              " 'treebank_raw',\n",
              " 'twitter_samples',\n",
              " 'udhr',\n",
              " 'udhr2',\n",
              " 'universal_treebanks',\n",
              " 'util',\n",
              " 'verbnet',\n",
              " 'webtext',\n",
              " 'wordnet',\n",
              " 'wordnet_ic',\n",
              " 'words']"
            ]
          },
          "metadata": {
            "tags": []
          },
          "execution_count": 8
        }
      ]
    },
    {
      "cell_type": "code",
      "metadata": {
        "id": "dXfFS1XTMOJ-",
        "outputId": "c11adeb4-60aa-49c3-eab8-efa8b3db0653",
        "colab": {
          "base_uri": "https://localhost:8080/"
        }
      },
      "source": [
        "import os\n",
        "import nltk\n",
        "nltk.download('popular')\n",
        "print(os.listdir(nltk.data.find(\"corpora\")))"
      ],
      "execution_count": 10,
      "outputs": [
        {
          "output_type": "stream",
          "text": [
            "[nltk_data] Downloading collection 'popular'\n",
            "[nltk_data]    | \n",
            "[nltk_data]    | Downloading package cmudict to /root/nltk_data...\n",
            "[nltk_data]    |   Unzipping corpora/cmudict.zip.\n",
            "[nltk_data]    | Downloading package gazetteers to /root/nltk_data...\n",
            "[nltk_data]    |   Unzipping corpora/gazetteers.zip.\n",
            "[nltk_data]    | Downloading package genesis to /root/nltk_data...\n",
            "[nltk_data]    |   Unzipping corpora/genesis.zip.\n",
            "[nltk_data]    | Downloading package gutenberg to /root/nltk_data...\n",
            "[nltk_data]    |   Unzipping corpora/gutenberg.zip.\n",
            "[nltk_data]    | Downloading package inaugural to /root/nltk_data...\n",
            "[nltk_data]    |   Unzipping corpora/inaugural.zip.\n",
            "[nltk_data]    | Downloading package movie_reviews to\n",
            "[nltk_data]    |     /root/nltk_data...\n",
            "[nltk_data]    |   Unzipping corpora/movie_reviews.zip.\n",
            "[nltk_data]    | Downloading package names to /root/nltk_data...\n",
            "[nltk_data]    |   Unzipping corpora/names.zip.\n",
            "[nltk_data]    | Downloading package shakespeare to /root/nltk_data...\n",
            "[nltk_data]    |   Unzipping corpora/shakespeare.zip.\n",
            "[nltk_data]    | Downloading package stopwords to /root/nltk_data...\n",
            "[nltk_data]    |   Unzipping corpora/stopwords.zip.\n",
            "[nltk_data]    | Downloading package treebank to /root/nltk_data...\n",
            "[nltk_data]    |   Unzipping corpora/treebank.zip.\n",
            "[nltk_data]    | Downloading package twitter_samples to\n",
            "[nltk_data]    |     /root/nltk_data...\n",
            "[nltk_data]    |   Unzipping corpora/twitter_samples.zip.\n",
            "[nltk_data]    | Downloading package omw to /root/nltk_data...\n",
            "[nltk_data]    |   Unzipping corpora/omw.zip.\n",
            "[nltk_data]    | Downloading package wordnet to /root/nltk_data...\n",
            "[nltk_data]    |   Unzipping corpora/wordnet.zip.\n",
            "[nltk_data]    | Downloading package wordnet_ic to /root/nltk_data...\n",
            "[nltk_data]    |   Unzipping corpora/wordnet_ic.zip.\n",
            "[nltk_data]    | Downloading package words to /root/nltk_data...\n",
            "[nltk_data]    |   Unzipping corpora/words.zip.\n",
            "[nltk_data]    | Downloading package maxent_ne_chunker to\n",
            "[nltk_data]    |     /root/nltk_data...\n",
            "[nltk_data]    |   Unzipping chunkers/maxent_ne_chunker.zip.\n",
            "[nltk_data]    | Downloading package punkt to /root/nltk_data...\n",
            "[nltk_data]    |   Unzipping tokenizers/punkt.zip.\n",
            "[nltk_data]    | Downloading package snowball_data to\n",
            "[nltk_data]    |     /root/nltk_data...\n",
            "[nltk_data]    | Downloading package averaged_perceptron_tagger to\n",
            "[nltk_data]    |     /root/nltk_data...\n",
            "[nltk_data]    |   Unzipping taggers/averaged_perceptron_tagger.zip.\n",
            "[nltk_data]    | \n",
            "[nltk_data]  Done downloading collection popular\n",
            "['omw.zip', 'inaugural', 'cmudict', 'gazetteers', 'gutenberg', 'movie_reviews', 'genesis.zip', 'movie_reviews.zip', 'treebank', 'twitter_samples.zip', 'omw', 'wordnet_ic', 'names.zip', 'wordnet', 'treebank.zip', 'stopwords', 'twitter_samples', 'gutenberg.zip', 'wordnet_ic.zip', 'inaugural.zip', 'cmudict.zip', 'gazetteers.zip', 'stopwords.zip', 'words.zip', 'wordnet.zip', 'genesis', 'shakespeare.zip', 'words', 'shakespeare', 'names']\n"
          ],
          "name": "stdout"
        }
      ]
    },
    {
      "cell_type": "code",
      "metadata": {
        "id": "qdJ-skJiOJKw",
        "outputId": "ef606dec-9ea2-4050-ad04-b2d0189f1b18",
        "colab": {
          "base_uri": "https://localhost:8080/"
        }
      },
      "source": [
        "import nltk\n",
        "nltk.download('all')"
      ],
      "execution_count": 12,
      "outputs": [
        {
          "output_type": "stream",
          "text": [
            "[nltk_data] Downloading collection 'all'\n",
            "[nltk_data]    | \n",
            "[nltk_data]    | Downloading package abc to /root/nltk_data...\n",
            "[nltk_data]    |   Unzipping corpora/abc.zip.\n",
            "[nltk_data]    | Downloading package alpino to /root/nltk_data...\n",
            "[nltk_data]    |   Unzipping corpora/alpino.zip.\n",
            "[nltk_data]    | Downloading package biocreative_ppi to\n",
            "[nltk_data]    |     /root/nltk_data...\n",
            "[nltk_data]    |   Unzipping corpora/biocreative_ppi.zip.\n",
            "[nltk_data]    | Downloading package brown to /root/nltk_data...\n",
            "[nltk_data]    |   Unzipping corpora/brown.zip.\n",
            "[nltk_data]    | Downloading package brown_tei to /root/nltk_data...\n",
            "[nltk_data]    |   Unzipping corpora/brown_tei.zip.\n",
            "[nltk_data]    | Downloading package cess_cat to /root/nltk_data...\n",
            "[nltk_data]    |   Unzipping corpora/cess_cat.zip.\n",
            "[nltk_data]    | Downloading package cess_esp to /root/nltk_data...\n",
            "[nltk_data]    |   Unzipping corpora/cess_esp.zip.\n",
            "[nltk_data]    | Downloading package chat80 to /root/nltk_data...\n",
            "[nltk_data]    |   Unzipping corpora/chat80.zip.\n",
            "[nltk_data]    | Downloading package city_database to\n",
            "[nltk_data]    |     /root/nltk_data...\n",
            "[nltk_data]    |   Unzipping corpora/city_database.zip.\n",
            "[nltk_data]    | Downloading package cmudict to /root/nltk_data...\n",
            "[nltk_data]    |   Package cmudict is already up-to-date!\n",
            "[nltk_data]    | Downloading package comparative_sentences to\n",
            "[nltk_data]    |     /root/nltk_data...\n",
            "[nltk_data]    |   Unzipping corpora/comparative_sentences.zip.\n",
            "[nltk_data]    | Downloading package comtrans to /root/nltk_data...\n",
            "[nltk_data]    | Downloading package conll2000 to /root/nltk_data...\n",
            "[nltk_data]    |   Unzipping corpora/conll2000.zip.\n",
            "[nltk_data]    | Downloading package conll2002 to /root/nltk_data...\n",
            "[nltk_data]    |   Unzipping corpora/conll2002.zip.\n",
            "[nltk_data]    | Downloading package conll2007 to /root/nltk_data...\n",
            "[nltk_data]    | Downloading package crubadan to /root/nltk_data...\n",
            "[nltk_data]    |   Unzipping corpora/crubadan.zip.\n",
            "[nltk_data]    | Downloading package dependency_treebank to\n",
            "[nltk_data]    |     /root/nltk_data...\n",
            "[nltk_data]    |   Unzipping corpora/dependency_treebank.zip.\n",
            "[nltk_data]    | Downloading package dolch to /root/nltk_data...\n",
            "[nltk_data]    |   Unzipping corpora/dolch.zip.\n",
            "[nltk_data]    | Downloading package europarl_raw to\n",
            "[nltk_data]    |     /root/nltk_data...\n",
            "[nltk_data]    |   Unzipping corpora/europarl_raw.zip.\n",
            "[nltk_data]    | Downloading package floresta to /root/nltk_data...\n",
            "[nltk_data]    |   Unzipping corpora/floresta.zip.\n",
            "[nltk_data]    | Downloading package framenet_v15 to\n",
            "[nltk_data]    |     /root/nltk_data...\n",
            "[nltk_data]    |   Unzipping corpora/framenet_v15.zip.\n",
            "[nltk_data]    | Downloading package framenet_v17 to\n",
            "[nltk_data]    |     /root/nltk_data...\n",
            "[nltk_data]    |   Unzipping corpora/framenet_v17.zip.\n",
            "[nltk_data]    | Downloading package gazetteers to /root/nltk_data...\n",
            "[nltk_data]    |   Package gazetteers is already up-to-date!\n",
            "[nltk_data]    | Downloading package genesis to /root/nltk_data...\n",
            "[nltk_data]    |   Package genesis is already up-to-date!\n",
            "[nltk_data]    | Downloading package gutenberg to /root/nltk_data...\n",
            "[nltk_data]    |   Package gutenberg is already up-to-date!\n",
            "[nltk_data]    | Downloading package ieer to /root/nltk_data...\n",
            "[nltk_data]    |   Unzipping corpora/ieer.zip.\n",
            "[nltk_data]    | Downloading package inaugural to /root/nltk_data...\n",
            "[nltk_data]    |   Package inaugural is already up-to-date!\n",
            "[nltk_data]    | Downloading package indian to /root/nltk_data...\n",
            "[nltk_data]    |   Unzipping corpora/indian.zip.\n",
            "[nltk_data]    | Downloading package jeita to /root/nltk_data...\n",
            "[nltk_data]    | Downloading package kimmo to /root/nltk_data...\n",
            "[nltk_data]    |   Unzipping corpora/kimmo.zip.\n",
            "[nltk_data]    | Downloading package knbc to /root/nltk_data...\n",
            "[nltk_data]    | Downloading package lin_thesaurus to\n",
            "[nltk_data]    |     /root/nltk_data...\n",
            "[nltk_data]    |   Unzipping corpora/lin_thesaurus.zip.\n",
            "[nltk_data]    | Downloading package mac_morpho to /root/nltk_data...\n",
            "[nltk_data]    |   Unzipping corpora/mac_morpho.zip.\n",
            "[nltk_data]    | Downloading package machado to /root/nltk_data...\n",
            "[nltk_data]    | Downloading package masc_tagged to /root/nltk_data...\n",
            "[nltk_data]    | Downloading package moses_sample to\n",
            "[nltk_data]    |     /root/nltk_data...\n",
            "[nltk_data]    |   Unzipping models/moses_sample.zip.\n",
            "[nltk_data]    | Downloading package movie_reviews to\n",
            "[nltk_data]    |     /root/nltk_data...\n",
            "[nltk_data]    |   Package movie_reviews is already up-to-date!\n",
            "[nltk_data]    | Downloading package names to /root/nltk_data...\n",
            "[nltk_data]    |   Package names is already up-to-date!\n",
            "[nltk_data]    | Downloading package nombank.1.0 to /root/nltk_data...\n",
            "[nltk_data]    | Downloading package nps_chat to /root/nltk_data...\n",
            "[nltk_data]    |   Unzipping corpora/nps_chat.zip.\n",
            "[nltk_data]    | Downloading package omw to /root/nltk_data...\n",
            "[nltk_data]    |   Package omw is already up-to-date!\n",
            "[nltk_data]    | Downloading package opinion_lexicon to\n",
            "[nltk_data]    |     /root/nltk_data...\n",
            "[nltk_data]    |   Unzipping corpora/opinion_lexicon.zip.\n",
            "[nltk_data]    | Downloading package paradigms to /root/nltk_data...\n",
            "[nltk_data]    |   Unzipping corpora/paradigms.zip.\n",
            "[nltk_data]    | Downloading package pil to /root/nltk_data...\n",
            "[nltk_data]    |   Unzipping corpora/pil.zip.\n",
            "[nltk_data]    | Downloading package pl196x to /root/nltk_data...\n",
            "[nltk_data]    |   Unzipping corpora/pl196x.zip.\n",
            "[nltk_data]    | Downloading package ppattach to /root/nltk_data...\n",
            "[nltk_data]    |   Unzipping corpora/ppattach.zip.\n",
            "[nltk_data]    | Downloading package problem_reports to\n",
            "[nltk_data]    |     /root/nltk_data...\n",
            "[nltk_data]    |   Unzipping corpora/problem_reports.zip.\n",
            "[nltk_data]    | Downloading package propbank to /root/nltk_data...\n",
            "[nltk_data]    | Downloading package ptb to /root/nltk_data...\n",
            "[nltk_data]    |   Unzipping corpora/ptb.zip.\n",
            "[nltk_data]    | Downloading package product_reviews_1 to\n",
            "[nltk_data]    |     /root/nltk_data...\n",
            "[nltk_data]    |   Unzipping corpora/product_reviews_1.zip.\n",
            "[nltk_data]    | Downloading package product_reviews_2 to\n",
            "[nltk_data]    |     /root/nltk_data...\n",
            "[nltk_data]    |   Unzipping corpora/product_reviews_2.zip.\n",
            "[nltk_data]    | Downloading package pros_cons to /root/nltk_data...\n",
            "[nltk_data]    |   Unzipping corpora/pros_cons.zip.\n",
            "[nltk_data]    | Downloading package qc to /root/nltk_data...\n",
            "[nltk_data]    |   Unzipping corpora/qc.zip.\n",
            "[nltk_data]    | Downloading package reuters to /root/nltk_data...\n",
            "[nltk_data]    | Downloading package rte to /root/nltk_data...\n",
            "[nltk_data]    |   Unzipping corpora/rte.zip.\n",
            "[nltk_data]    | Downloading package semcor to /root/nltk_data...\n",
            "[nltk_data]    | Downloading package senseval to /root/nltk_data...\n",
            "[nltk_data]    |   Unzipping corpora/senseval.zip.\n",
            "[nltk_data]    | Downloading package sentiwordnet to\n",
            "[nltk_data]    |     /root/nltk_data...\n",
            "[nltk_data]    |   Unzipping corpora/sentiwordnet.zip.\n",
            "[nltk_data]    | Downloading package sentence_polarity to\n",
            "[nltk_data]    |     /root/nltk_data...\n",
            "[nltk_data]    |   Unzipping corpora/sentence_polarity.zip.\n",
            "[nltk_data]    | Downloading package shakespeare to /root/nltk_data...\n",
            "[nltk_data]    |   Package shakespeare is already up-to-date!\n",
            "[nltk_data]    | Downloading package sinica_treebank to\n",
            "[nltk_data]    |     /root/nltk_data...\n",
            "[nltk_data]    |   Unzipping corpora/sinica_treebank.zip.\n",
            "[nltk_data]    | Downloading package smultron to /root/nltk_data...\n",
            "[nltk_data]    |   Unzipping corpora/smultron.zip.\n",
            "[nltk_data]    | Downloading package state_union to /root/nltk_data...\n",
            "[nltk_data]    |   Unzipping corpora/state_union.zip.\n",
            "[nltk_data]    | Downloading package stopwords to /root/nltk_data...\n",
            "[nltk_data]    |   Package stopwords is already up-to-date!\n",
            "[nltk_data]    | Downloading package subjectivity to\n",
            "[nltk_data]    |     /root/nltk_data...\n",
            "[nltk_data]    |   Unzipping corpora/subjectivity.zip.\n",
            "[nltk_data]    | Downloading package swadesh to /root/nltk_data...\n",
            "[nltk_data]    |   Unzipping corpora/swadesh.zip.\n",
            "[nltk_data]    | Downloading package switchboard to /root/nltk_data...\n",
            "[nltk_data]    |   Unzipping corpora/switchboard.zip.\n",
            "[nltk_data]    | Downloading package timit to /root/nltk_data...\n",
            "[nltk_data]    |   Unzipping corpora/timit.zip.\n",
            "[nltk_data]    | Downloading package toolbox to /root/nltk_data...\n",
            "[nltk_data]    |   Unzipping corpora/toolbox.zip.\n",
            "[nltk_data]    | Downloading package treebank to /root/nltk_data...\n",
            "[nltk_data]    |   Package treebank is already up-to-date!\n",
            "[nltk_data]    | Downloading package twitter_samples to\n",
            "[nltk_data]    |     /root/nltk_data...\n",
            "[nltk_data]    |   Package twitter_samples is already up-to-date!\n",
            "[nltk_data]    | Downloading package udhr to /root/nltk_data...\n",
            "[nltk_data]    |   Unzipping corpora/udhr.zip.\n",
            "[nltk_data]    | Downloading package udhr2 to /root/nltk_data...\n",
            "[nltk_data]    |   Unzipping corpora/udhr2.zip.\n",
            "[nltk_data]    | Downloading package unicode_samples to\n",
            "[nltk_data]    |     /root/nltk_data...\n",
            "[nltk_data]    |   Unzipping corpora/unicode_samples.zip.\n",
            "[nltk_data]    | Downloading package universal_treebanks_v20 to\n",
            "[nltk_data]    |     /root/nltk_data...\n",
            "[nltk_data]    | Downloading package verbnet to /root/nltk_data...\n",
            "[nltk_data]    |   Unzipping corpora/verbnet.zip.\n",
            "[nltk_data]    | Downloading package verbnet3 to /root/nltk_data...\n",
            "[nltk_data]    |   Unzipping corpora/verbnet3.zip.\n",
            "[nltk_data]    | Downloading package webtext to /root/nltk_data...\n",
            "[nltk_data]    |   Unzipping corpora/webtext.zip.\n",
            "[nltk_data]    | Downloading package wordnet to /root/nltk_data...\n",
            "[nltk_data]    |   Package wordnet is already up-to-date!\n",
            "[nltk_data]    | Downloading package wordnet_ic to /root/nltk_data...\n",
            "[nltk_data]    |   Package wordnet_ic is already up-to-date!\n",
            "[nltk_data]    | Downloading package words to /root/nltk_data...\n",
            "[nltk_data]    |   Package words is already up-to-date!\n",
            "[nltk_data]    | Downloading package ycoe to /root/nltk_data...\n",
            "[nltk_data]    |   Unzipping corpora/ycoe.zip.\n",
            "[nltk_data]    | Downloading package rslp to /root/nltk_data...\n",
            "[nltk_data]    |   Unzipping stemmers/rslp.zip.\n",
            "[nltk_data]    | Downloading package maxent_treebank_pos_tagger to\n",
            "[nltk_data]    |     /root/nltk_data...\n",
            "[nltk_data]    |   Unzipping taggers/maxent_treebank_pos_tagger.zip.\n",
            "[nltk_data]    | Downloading package universal_tagset to\n",
            "[nltk_data]    |     /root/nltk_data...\n",
            "[nltk_data]    |   Unzipping taggers/universal_tagset.zip.\n",
            "[nltk_data]    | Downloading package maxent_ne_chunker to\n",
            "[nltk_data]    |     /root/nltk_data...\n",
            "[nltk_data]    |   Package maxent_ne_chunker is already up-to-date!\n",
            "[nltk_data]    | Downloading package punkt to /root/nltk_data...\n",
            "[nltk_data]    |   Package punkt is already up-to-date!\n",
            "[nltk_data]    | Downloading package book_grammars to\n",
            "[nltk_data]    |     /root/nltk_data...\n",
            "[nltk_data]    |   Unzipping grammars/book_grammars.zip.\n",
            "[nltk_data]    | Downloading package sample_grammars to\n",
            "[nltk_data]    |     /root/nltk_data...\n",
            "[nltk_data]    |   Unzipping grammars/sample_grammars.zip.\n",
            "[nltk_data]    | Downloading package spanish_grammars to\n",
            "[nltk_data]    |     /root/nltk_data...\n",
            "[nltk_data]    |   Unzipping grammars/spanish_grammars.zip.\n",
            "[nltk_data]    | Downloading package basque_grammars to\n",
            "[nltk_data]    |     /root/nltk_data...\n",
            "[nltk_data]    |   Unzipping grammars/basque_grammars.zip.\n",
            "[nltk_data]    | Downloading package large_grammars to\n",
            "[nltk_data]    |     /root/nltk_data...\n",
            "[nltk_data]    |   Unzipping grammars/large_grammars.zip.\n",
            "[nltk_data]    | Downloading package tagsets to /root/nltk_data...\n",
            "[nltk_data]    |   Unzipping help/tagsets.zip.\n",
            "[nltk_data]    | Downloading package snowball_data to\n",
            "[nltk_data]    |     /root/nltk_data...\n",
            "[nltk_data]    |   Package snowball_data is already up-to-date!\n",
            "[nltk_data]    | Downloading package bllip_wsj_no_aux to\n",
            "[nltk_data]    |     /root/nltk_data...\n",
            "[nltk_data]    |   Unzipping models/bllip_wsj_no_aux.zip.\n",
            "[nltk_data]    | Downloading package word2vec_sample to\n",
            "[nltk_data]    |     /root/nltk_data...\n",
            "[nltk_data]    |   Unzipping models/word2vec_sample.zip.\n",
            "[nltk_data]    | Downloading package panlex_swadesh to\n",
            "[nltk_data]    |     /root/nltk_data...\n",
            "[nltk_data]    | Downloading package mte_teip5 to /root/nltk_data...\n",
            "[nltk_data]    |   Unzipping corpora/mte_teip5.zip.\n",
            "[nltk_data]    | Downloading package averaged_perceptron_tagger to\n",
            "[nltk_data]    |     /root/nltk_data...\n",
            "[nltk_data]    |   Package averaged_perceptron_tagger is already up-\n",
            "[nltk_data]    |       to-date!\n",
            "[nltk_data]    | Downloading package averaged_perceptron_tagger_ru to\n",
            "[nltk_data]    |     /root/nltk_data...\n",
            "[nltk_data]    |   Unzipping\n",
            "[nltk_data]    |       taggers/averaged_perceptron_tagger_ru.zip.\n",
            "[nltk_data]    | Downloading package perluniprops to\n",
            "[nltk_data]    |     /root/nltk_data...\n",
            "[nltk_data]    |   Unzipping misc/perluniprops.zip.\n",
            "[nltk_data]    | Downloading package nonbreaking_prefixes to\n",
            "[nltk_data]    |     /root/nltk_data...\n",
            "[nltk_data]    |   Unzipping corpora/nonbreaking_prefixes.zip.\n",
            "[nltk_data]    | Downloading package vader_lexicon to\n",
            "[nltk_data]    |     /root/nltk_data...\n",
            "[nltk_data]    | Downloading package porter_test to /root/nltk_data...\n",
            "[nltk_data]    |   Unzipping stemmers/porter_test.zip.\n",
            "[nltk_data]    | Downloading package wmt15_eval to /root/nltk_data...\n",
            "[nltk_data]    |   Unzipping models/wmt15_eval.zip.\n",
            "[nltk_data]    | Downloading package mwa_ppdb to /root/nltk_data...\n",
            "[nltk_data]    |   Unzipping misc/mwa_ppdb.zip.\n",
            "[nltk_data]    | \n",
            "[nltk_data]  Done downloading collection all\n"
          ],
          "name": "stdout"
        },
        {
          "output_type": "execute_result",
          "data": {
            "text/plain": [
              "True"
            ]
          },
          "metadata": {
            "tags": []
          },
          "execution_count": 12
        }
      ]
    },
    {
      "cell_type": "code",
      "metadata": {
        "id": "KXhCNTKmMX0f",
        "outputId": "846e9654-87b9-4e8a-e9b8-c824bacccf2c",
        "colab": {
          "base_uri": "https://localhost:8080/"
        }
      },
      "source": [
        "from nltk.corpus import brown\n",
        "brown.words()"
      ],
      "execution_count": 13,
      "outputs": [
        {
          "output_type": "execute_result",
          "data": {
            "text/plain": [
              "['The', 'Fulton', 'County', 'Grand', 'Jury', 'said', ...]"
            ]
          },
          "metadata": {
            "tags": []
          },
          "execution_count": 13
        }
      ]
    },
    {
      "cell_type": "code",
      "metadata": {
        "id": "6Q25sI_-N8hU",
        "outputId": "a7bedcc4-d795-4cb3-f437-c634d0d703a7",
        "colab": {
          "base_uri": "https://localhost:8080/"
        }
      },
      "source": [
        "nltk.corpus.gutenberg.fileids()"
      ],
      "execution_count": 14,
      "outputs": [
        {
          "output_type": "execute_result",
          "data": {
            "text/plain": [
              "['austen-emma.txt',\n",
              " 'austen-persuasion.txt',\n",
              " 'austen-sense.txt',\n",
              " 'bible-kjv.txt',\n",
              " 'blake-poems.txt',\n",
              " 'bryant-stories.txt',\n",
              " 'burgess-busterbrown.txt',\n",
              " 'carroll-alice.txt',\n",
              " 'chesterton-ball.txt',\n",
              " 'chesterton-brown.txt',\n",
              " 'chesterton-thursday.txt',\n",
              " 'edgeworth-parents.txt',\n",
              " 'melville-moby_dick.txt',\n",
              " 'milton-paradise.txt',\n",
              " 'shakespeare-caesar.txt',\n",
              " 'shakespeare-hamlet.txt',\n",
              " 'shakespeare-macbeth.txt',\n",
              " 'whitman-leaves.txt']"
            ]
          },
          "metadata": {
            "tags": []
          },
          "execution_count": 14
        }
      ]
    },
    {
      "cell_type": "code",
      "metadata": {
        "id": "0NnGDVxcOlQa",
        "outputId": "83a0e29d-3b85-4019-900d-b2ed9ab32484",
        "colab": {
          "base_uri": "https://localhost:8080/"
        }
      },
      "source": [
        "hamlet=nltk.corpus.gutenberg.words('shakespeare-hamlet.txt')\n",
        "hamlet"
      ],
      "execution_count": 15,
      "outputs": [
        {
          "output_type": "execute_result",
          "data": {
            "text/plain": [
              "['[', 'The', 'Tragedie', 'of', 'Hamlet', 'by', ...]"
            ]
          },
          "metadata": {
            "tags": []
          },
          "execution_count": 15
        }
      ]
    },
    {
      "cell_type": "code",
      "metadata": {
        "id": "Vuysv6xrO5gX",
        "outputId": "29e67fbe-68c2-4a36-d203-33566c8b916b",
        "colab": {
          "base_uri": "https://localhost:8080/"
        }
      },
      "source": [
        "for word in hamlet[:500]:\n",
        "  print(word,sep=' ',end=' ')"
      ],
      "execution_count": 16,
      "outputs": [
        {
          "output_type": "stream",
          "text": [
            "[ The Tragedie of Hamlet by William Shakespeare 1599 ] Actus Primus . Scoena Prima . Enter Barnardo and Francisco two Centinels . Barnardo . Who ' s there ? Fran . Nay answer me : Stand & vnfold your selfe Bar . Long liue the King Fran . Barnardo ? Bar . He Fran . You come most carefully vpon your houre Bar . ' Tis now strook twelue , get thee to bed Francisco Fran . For this releefe much thankes : ' Tis bitter cold , And I am sicke at heart Barn . Haue you had quiet Guard ? Fran . Not a Mouse stirring Barn . Well , goodnight . If you do meet Horatio and Marcellus , the Riuals of my Watch , bid them make hast . Enter Horatio and Marcellus . Fran . I thinke I heare them . Stand : who ' s there ? Hor . Friends to this ground Mar . And Leige - men to the Dane Fran . Giue you good night Mar . O farwel honest Soldier , who hath relieu ' d you ? Fra . Barnardo ha ' s my place : giue you goodnight . Exit Fran . Mar . Holla Barnardo Bar . Say , what is Horatio there ? Hor . A peece of him Bar . Welcome Horatio , welcome good Marcellus Mar . What , ha ' s this thing appear ' d againe to night Bar . I haue seene nothing Mar . Horatio saies , ' tis but our Fantasie , And will not let beleefe take hold of him Touching this dreaded sight , twice seene of vs , Therefore I haue intreated him along With vs , to watch the minutes of this Night , That if againe this Apparition come , He may approue our eyes , and speake to it Hor . Tush , tush , ' twill not appeare Bar . Sit downe a - while , And let vs once againe assaile your eares , That are so fortified against our Story , What we two Nights haue seene Hor . Well , sit we downe , And let vs heare Barnardo speake of this Barn . Last night of all , When yond same Starre that ' s Westward from the Pole Had made his course t ' illume that part of Heauen Where now it burnes , Marcellus and my selfe , The Bell then beating one Mar . Peace , breake thee of : Enter the Ghost . Looke where it comes againe Barn . In the same figure , like the King that ' s dead Mar . Thou art a Scholler ; speake to it Horatio Barn . Lookes it not like the King ? Marke it Horatio Hora . Most like : It harrowes me with fear & wonder Barn . It would be spoke too Mar . Question it Horatio Hor . What art "
          ],
          "name": "stdout"
        }
      ]
    },
    {
      "cell_type": "code",
      "metadata": {
        "id": "vbCWWdxtPGGO"
      },
      "source": [
        "AI=\"\"\" Sripathi Panditaradhyula Balasubrahmanyam (4 June 1946 – 25 September 2020), also referred to as S. P. B. or Balu, was an Indian musician, playback singer, television anchor, music director, actor, dubbing artist, and film producer who worked predominantly in Telugu, Tamil, Kannada, Hindi, and Malayalam films.\n",
        "      He won six National Film Awards for Best Male Playback Singer for his works in four different languages; Telugu, Tamil, Kannada, and Hindi; 25 Andhra Pradesh state Nandi \n",
        "      Awards for his work in Telugu cinema, and numerous other state awards from Karnataka and Tamil Nadu.In addition, he won the Filmfare Award, and six Filmfare Award\n",
        "      s South.According to some sources, he held the Guinness World Record for recording the highest number of songs by a singer with over 40,000 songs.\n",
        "       He recorded 21 songs in Kannada for the composer Upendra Kumar in Bengaluru from 9 am to 9 pm on 8 February 1981. In addition, he recorded 19 songs in Tamil and 16 songs \n",
        "       in Hindi in a day, which has also been called a record.[16] In 2012, he received the state NTR National Award for his contributions to Indian cinema.\n",
        "        In 2016, he was honoured with the Silver Peacock Medal as Indian Film Personality of the Year.\n",
        "         He was a recipient of the Padma Shri (2001) and Padma Bhushan (2011) from the Government of India.\"\"\""
      ],
      "execution_count": 17,
      "outputs": []
    },
    {
      "cell_type": "code",
      "metadata": {
        "id": "MPS1sktiQvti",
        "outputId": "8550c21d-8eb0-4ec4-aad1-1f54c89df550",
        "colab": {
          "base_uri": "https://localhost:8080/"
        }
      },
      "source": [
        "type(AI)"
      ],
      "execution_count": 18,
      "outputs": [
        {
          "output_type": "execute_result",
          "data": {
            "text/plain": [
              "str"
            ]
          },
          "metadata": {
            "tags": []
          },
          "execution_count": 18
        }
      ]
    },
    {
      "cell_type": "code",
      "metadata": {
        "id": "4LxYFfPAQyBN"
      },
      "source": [
        "from nltk.tokenize import word_tokenize"
      ],
      "execution_count": 19,
      "outputs": []
    },
    {
      "cell_type": "code",
      "metadata": {
        "id": "K9zLv-6uQ2Dg",
        "outputId": "8f9650e2-d24c-4f1f-de9d-b410601f5f91",
        "colab": {
          "base_uri": "https://localhost:8080/"
        }
      },
      "source": [
        "AI_tokens=word_tokenize(AI)\n",
        "AI_tokens"
      ],
      "execution_count": 20,
      "outputs": [
        {
          "output_type": "execute_result",
          "data": {
            "text/plain": [
              "['Sripathi',\n",
              " 'Panditaradhyula',\n",
              " 'Balasubrahmanyam',\n",
              " '(',\n",
              " '4',\n",
              " 'June',\n",
              " '1946',\n",
              " '–',\n",
              " '25',\n",
              " 'September',\n",
              " '2020',\n",
              " ')',\n",
              " ',',\n",
              " 'also',\n",
              " 'referred',\n",
              " 'to',\n",
              " 'as',\n",
              " 'S.',\n",
              " 'P.',\n",
              " 'B.',\n",
              " 'or',\n",
              " 'Balu',\n",
              " ',',\n",
              " 'was',\n",
              " 'an',\n",
              " 'Indian',\n",
              " 'musician',\n",
              " ',',\n",
              " 'playback',\n",
              " 'singer',\n",
              " ',',\n",
              " 'television',\n",
              " 'anchor',\n",
              " ',',\n",
              " 'music',\n",
              " 'director',\n",
              " ',',\n",
              " 'actor',\n",
              " ',',\n",
              " 'dubbing',\n",
              " 'artist',\n",
              " ',',\n",
              " 'and',\n",
              " 'film',\n",
              " 'producer',\n",
              " 'who',\n",
              " 'worked',\n",
              " 'predominantly',\n",
              " 'in',\n",
              " 'Telugu',\n",
              " ',',\n",
              " 'Tamil',\n",
              " ',',\n",
              " 'Kannada',\n",
              " ',',\n",
              " 'Hindi',\n",
              " ',',\n",
              " 'and',\n",
              " 'Malayalam',\n",
              " 'films',\n",
              " '.',\n",
              " 'He',\n",
              " 'won',\n",
              " 'six',\n",
              " 'National',\n",
              " 'Film',\n",
              " 'Awards',\n",
              " 'for',\n",
              " 'Best',\n",
              " 'Male',\n",
              " 'Playback',\n",
              " 'Singer',\n",
              " 'for',\n",
              " 'his',\n",
              " 'works',\n",
              " 'in',\n",
              " 'four',\n",
              " 'different',\n",
              " 'languages',\n",
              " ';',\n",
              " 'Telugu',\n",
              " ',',\n",
              " 'Tamil',\n",
              " ',',\n",
              " 'Kannada',\n",
              " ',',\n",
              " 'and',\n",
              " 'Hindi',\n",
              " ';',\n",
              " '25',\n",
              " 'Andhra',\n",
              " 'Pradesh',\n",
              " 'state',\n",
              " 'Nandi',\n",
              " 'Awards',\n",
              " 'for',\n",
              " 'his',\n",
              " 'work',\n",
              " 'in',\n",
              " 'Telugu',\n",
              " 'cinema',\n",
              " ',',\n",
              " 'and',\n",
              " 'numerous',\n",
              " 'other',\n",
              " 'state',\n",
              " 'awards',\n",
              " 'from',\n",
              " 'Karnataka',\n",
              " 'and',\n",
              " 'Tamil',\n",
              " 'Nadu.In',\n",
              " 'addition',\n",
              " ',',\n",
              " 'he',\n",
              " 'won',\n",
              " 'the',\n",
              " 'Filmfare',\n",
              " 'Award',\n",
              " ',',\n",
              " 'and',\n",
              " 'six',\n",
              " 'Filmfare',\n",
              " 'Award',\n",
              " 's',\n",
              " 'South.According',\n",
              " 'to',\n",
              " 'some',\n",
              " 'sources',\n",
              " ',',\n",
              " 'he',\n",
              " 'held',\n",
              " 'the',\n",
              " 'Guinness',\n",
              " 'World',\n",
              " 'Record',\n",
              " 'for',\n",
              " 'recording',\n",
              " 'the',\n",
              " 'highest',\n",
              " 'number',\n",
              " 'of',\n",
              " 'songs',\n",
              " 'by',\n",
              " 'a',\n",
              " 'singer',\n",
              " 'with',\n",
              " 'over',\n",
              " '40,000',\n",
              " 'songs',\n",
              " '.',\n",
              " 'He',\n",
              " 'recorded',\n",
              " '21',\n",
              " 'songs',\n",
              " 'in',\n",
              " 'Kannada',\n",
              " 'for',\n",
              " 'the',\n",
              " 'composer',\n",
              " 'Upendra',\n",
              " 'Kumar',\n",
              " 'in',\n",
              " 'Bengaluru',\n",
              " 'from',\n",
              " '9',\n",
              " 'am',\n",
              " 'to',\n",
              " '9',\n",
              " 'pm',\n",
              " 'on',\n",
              " '8',\n",
              " 'February',\n",
              " '1981',\n",
              " '.',\n",
              " 'In',\n",
              " 'addition',\n",
              " ',',\n",
              " 'he',\n",
              " 'recorded',\n",
              " '19',\n",
              " 'songs',\n",
              " 'in',\n",
              " 'Tamil',\n",
              " 'and',\n",
              " '16',\n",
              " 'songs',\n",
              " 'in',\n",
              " 'Hindi',\n",
              " 'in',\n",
              " 'a',\n",
              " 'day',\n",
              " ',',\n",
              " 'which',\n",
              " 'has',\n",
              " 'also',\n",
              " 'been',\n",
              " 'called',\n",
              " 'a',\n",
              " 'record',\n",
              " '.',\n",
              " '[',\n",
              " '16',\n",
              " ']',\n",
              " 'In',\n",
              " '2012',\n",
              " ',',\n",
              " 'he',\n",
              " 'received',\n",
              " 'the',\n",
              " 'state',\n",
              " 'NTR',\n",
              " 'National',\n",
              " 'Award',\n",
              " 'for',\n",
              " 'his',\n",
              " 'contributions',\n",
              " 'to',\n",
              " 'Indian',\n",
              " 'cinema',\n",
              " '.',\n",
              " 'In',\n",
              " '2016',\n",
              " ',',\n",
              " 'he',\n",
              " 'was',\n",
              " 'honoured',\n",
              " 'with',\n",
              " 'the',\n",
              " 'Silver',\n",
              " 'Peacock',\n",
              " 'Medal',\n",
              " 'as',\n",
              " 'Indian',\n",
              " 'Film',\n",
              " 'Personality',\n",
              " 'of',\n",
              " 'the',\n",
              " 'Year',\n",
              " '.',\n",
              " 'He',\n",
              " 'was',\n",
              " 'a',\n",
              " 'recipient',\n",
              " 'of',\n",
              " 'the',\n",
              " 'Padma',\n",
              " 'Shri',\n",
              " '(',\n",
              " '2001',\n",
              " ')',\n",
              " 'and',\n",
              " 'Padma',\n",
              " 'Bhushan',\n",
              " '(',\n",
              " '2011',\n",
              " ')',\n",
              " 'from',\n",
              " 'the',\n",
              " 'Government',\n",
              " 'of',\n",
              " 'India',\n",
              " '.']"
            ]
          },
          "metadata": {
            "tags": []
          },
          "execution_count": 20
        }
      ]
    },
    {
      "cell_type": "code",
      "metadata": {
        "id": "LQ0sTjE9Q9Eq",
        "outputId": "6a082de7-475c-43f2-8e90-96ee9dcd5a38",
        "colab": {
          "base_uri": "https://localhost:8080/"
        }
      },
      "source": [
        "len(AI_tokens)"
      ],
      "execution_count": 21,
      "outputs": [
        {
          "output_type": "execute_result",
          "data": {
            "text/plain": [
              "263"
            ]
          },
          "metadata": {
            "tags": []
          },
          "execution_count": 21
        }
      ]
    },
    {
      "cell_type": "code",
      "metadata": {
        "id": "4G4kgIX8RJZz"
      },
      "source": [
        "from nltk.probability import FreqDist\n",
        "fdist=FreqDist()"
      ],
      "execution_count": 22,
      "outputs": []
    },
    {
      "cell_type": "code",
      "metadata": {
        "id": "OpaKLIp_RSB3",
        "outputId": "b204c567-9030-420b-c649-6c13067b3099",
        "colab": {
          "base_uri": "https://localhost:8080/"
        }
      },
      "source": [
        "for word in AI_tokens:\n",
        "  fdist[word.lower()]+=1\n",
        "fdist"
      ],
      "execution_count": 23,
      "outputs": [
        {
          "output_type": "execute_result",
          "data": {
            "text/plain": [
              "FreqDist({'(': 3,\n",
              "          ')': 3,\n",
              "          ',': 23,\n",
              "          '.': 7,\n",
              "          '16': 2,\n",
              "          '19': 1,\n",
              "          '1946': 1,\n",
              "          '1981': 1,\n",
              "          '2001': 1,\n",
              "          '2011': 1,\n",
              "          '2012': 1,\n",
              "          '2016': 1,\n",
              "          '2020': 1,\n",
              "          '21': 1,\n",
              "          '25': 2,\n",
              "          '4': 1,\n",
              "          '40,000': 1,\n",
              "          '8': 1,\n",
              "          '9': 2,\n",
              "          ';': 2,\n",
              "          '[': 1,\n",
              "          ']': 1,\n",
              "          'a': 4,\n",
              "          'actor': 1,\n",
              "          'addition': 2,\n",
              "          'also': 2,\n",
              "          'am': 1,\n",
              "          'an': 1,\n",
              "          'anchor': 1,\n",
              "          'and': 8,\n",
              "          'andhra': 1,\n",
              "          'artist': 1,\n",
              "          'as': 2,\n",
              "          'award': 3,\n",
              "          'awards': 3,\n",
              "          'b.': 1,\n",
              "          'balasubrahmanyam': 1,\n",
              "          'balu': 1,\n",
              "          'been': 1,\n",
              "          'bengaluru': 1,\n",
              "          'best': 1,\n",
              "          'bhushan': 1,\n",
              "          'by': 1,\n",
              "          'called': 1,\n",
              "          'cinema': 2,\n",
              "          'composer': 1,\n",
              "          'contributions': 1,\n",
              "          'day': 1,\n",
              "          'different': 1,\n",
              "          'director': 1,\n",
              "          'dubbing': 1,\n",
              "          'february': 1,\n",
              "          'film': 3,\n",
              "          'filmfare': 2,\n",
              "          'films': 1,\n",
              "          'for': 6,\n",
              "          'four': 1,\n",
              "          'from': 3,\n",
              "          'government': 1,\n",
              "          'guinness': 1,\n",
              "          'has': 1,\n",
              "          'he': 8,\n",
              "          'held': 1,\n",
              "          'highest': 1,\n",
              "          'hindi': 3,\n",
              "          'his': 3,\n",
              "          'honoured': 1,\n",
              "          'in': 11,\n",
              "          'india': 1,\n",
              "          'indian': 3,\n",
              "          'june': 1,\n",
              "          'kannada': 3,\n",
              "          'karnataka': 1,\n",
              "          'kumar': 1,\n",
              "          'languages': 1,\n",
              "          'malayalam': 1,\n",
              "          'male': 1,\n",
              "          'medal': 1,\n",
              "          'music': 1,\n",
              "          'musician': 1,\n",
              "          'nadu.in': 1,\n",
              "          'nandi': 1,\n",
              "          'national': 2,\n",
              "          'ntr': 1,\n",
              "          'number': 1,\n",
              "          'numerous': 1,\n",
              "          'of': 4,\n",
              "          'on': 1,\n",
              "          'or': 1,\n",
              "          'other': 1,\n",
              "          'over': 1,\n",
              "          'p.': 1,\n",
              "          'padma': 2,\n",
              "          'panditaradhyula': 1,\n",
              "          'peacock': 1,\n",
              "          'personality': 1,\n",
              "          'playback': 2,\n",
              "          'pm': 1,\n",
              "          'pradesh': 1,\n",
              "          'predominantly': 1,\n",
              "          'producer': 1,\n",
              "          'received': 1,\n",
              "          'recipient': 1,\n",
              "          'record': 2,\n",
              "          'recorded': 2,\n",
              "          'recording': 1,\n",
              "          'referred': 1,\n",
              "          's': 1,\n",
              "          's.': 1,\n",
              "          'september': 1,\n",
              "          'shri': 1,\n",
              "          'silver': 1,\n",
              "          'singer': 3,\n",
              "          'six': 2,\n",
              "          'some': 1,\n",
              "          'songs': 5,\n",
              "          'sources': 1,\n",
              "          'south.according': 1,\n",
              "          'sripathi': 1,\n",
              "          'state': 3,\n",
              "          'tamil': 4,\n",
              "          'television': 1,\n",
              "          'telugu': 3,\n",
              "          'the': 9,\n",
              "          'to': 4,\n",
              "          'upendra': 1,\n",
              "          'was': 3,\n",
              "          'which': 1,\n",
              "          'who': 1,\n",
              "          'with': 2,\n",
              "          'won': 2,\n",
              "          'work': 1,\n",
              "          'worked': 1,\n",
              "          'works': 1,\n",
              "          'world': 1,\n",
              "          'year': 1,\n",
              "          '–': 1})"
            ]
          },
          "metadata": {
            "tags": []
          },
          "execution_count": 23
        }
      ]
    },
    {
      "cell_type": "code",
      "metadata": {
        "id": "GnTMad8fRbnR",
        "outputId": "d86dc348-2fdb-4f61-b252-43f93b8a6440",
        "colab": {
          "base_uri": "https://localhost:8080/"
        }
      },
      "source": [
        "fdist['artificial']"
      ],
      "execution_count": 24,
      "outputs": [
        {
          "output_type": "execute_result",
          "data": {
            "text/plain": [
              "0"
            ]
          },
          "metadata": {
            "tags": []
          },
          "execution_count": 24
        }
      ]
    },
    {
      "cell_type": "code",
      "metadata": {
        "id": "6dt8tbY5Rmi9",
        "outputId": "80c0cc8a-028f-47fd-bac6-6afd1191b906",
        "colab": {
          "base_uri": "https://localhost:8080/"
        }
      },
      "source": [
        "fdist['.']"
      ],
      "execution_count": 25,
      "outputs": [
        {
          "output_type": "execute_result",
          "data": {
            "text/plain": [
              "7"
            ]
          },
          "metadata": {
            "tags": []
          },
          "execution_count": 25
        }
      ]
    },
    {
      "cell_type": "code",
      "metadata": {
        "id": "loXfkowpRqce",
        "outputId": "28d59aee-c361-403a-faaf-5ba21887c201",
        "colab": {
          "base_uri": "https://localhost:8080/"
        }
      },
      "source": [
        "len(fdist)"
      ],
      "execution_count": 26,
      "outputs": [
        {
          "output_type": "execute_result",
          "data": {
            "text/plain": [
              "137"
            ]
          },
          "metadata": {
            "tags": []
          },
          "execution_count": 26
        }
      ]
    },
    {
      "cell_type": "code",
      "metadata": {
        "id": "eFqrckxjRt5A",
        "outputId": "02dbb117-da5d-4c6d-8443-00cc85a7d2e4",
        "colab": {
          "base_uri": "https://localhost:8080/"
        }
      },
      "source": [
        "fdist_top10=fdist.most_common(10)\n",
        "fdist_top10"
      ],
      "execution_count": 28,
      "outputs": [
        {
          "output_type": "execute_result",
          "data": {
            "text/plain": [
              "[(',', 23),\n",
              " ('in', 11),\n",
              " ('the', 9),\n",
              " ('and', 8),\n",
              " ('he', 8),\n",
              " ('.', 7),\n",
              " ('for', 6),\n",
              " ('songs', 5),\n",
              " ('to', 4),\n",
              " ('tamil', 4)]"
            ]
          },
          "metadata": {
            "tags": []
          },
          "execution_count": 28
        }
      ]
    },
    {
      "cell_type": "code",
      "metadata": {
        "id": "y7Vggb-3R3jk",
        "outputId": "d2da4fb0-915f-41e3-d50b-9dd7c5d60ae0",
        "colab": {
          "base_uri": "https://localhost:8080/"
        }
      },
      "source": [
        "from nltk.tokenize import blankline_tokenize\n",
        "AI_blank = blankline_tokenize(AI)\n",
        "len(AI_blank)"
      ],
      "execution_count": 29,
      "outputs": [
        {
          "output_type": "execute_result",
          "data": {
            "text/plain": [
              "1"
            ]
          },
          "metadata": {
            "tags": []
          },
          "execution_count": 29
        }
      ]
    },
    {
      "cell_type": "code",
      "metadata": {
        "id": "VbGdJVK6SJEt",
        "outputId": "a21850d9-ae02-4911-afbf-f7b2cf9e7237",
        "colab": {
          "base_uri": "https://localhost:8080/",
          "height": 154
        }
      },
      "source": [
        "AI_blank[0]"
      ],
      "execution_count": 32,
      "outputs": [
        {
          "output_type": "execute_result",
          "data": {
            "application/vnd.google.colaboratory.intrinsic+json": {
              "type": "string"
            },
            "text/plain": [
              "' Sripathi Panditaradhyula Balasubrahmanyam (4 June 1946 – 25 September 2020), also referred to as S. P. B. or Balu, was an Indian musician, playback singer, television anchor, music director, actor, dubbing artist, and film producer who worked predominantly in Telugu, Tamil, Kannada, Hindi, and Malayalam films.\\n      He won six National Film Awards for Best Male Playback Singer for his works in four different languages; Telugu, Tamil, Kannada, and Hindi; 25 Andhra Pradesh state Nandi \\n      Awards for his work in Telugu cinema, and numerous other state awards from Karnataka and Tamil Nadu.In addition, he won the Filmfare Award, and six Filmfare Award\\n      s South.According to some sources, he held the Guinness World Record for recording the highest number of songs by a singer with over 40,000 songs.\\n       He recorded 21 songs in Kannada for the composer Upendra Kumar in Bengaluru from 9 am to 9 pm on 8 February 1981. In addition, he recorded 19 songs in Tamil and 16 songs \\n       in Hindi in a day, which has also been called a record.[16] In 2012, he received the state NTR National Award for his contributions to Indian cinema.\\n        In 2016, he was honoured with the Silver Peacock Medal as Indian Film Personality of the Year.\\n         He was a recipient of the Padma Shri (2001) and Padma Bhushan (2011) from the Government of India.'"
            ]
          },
          "metadata": {
            "tags": []
          },
          "execution_count": 32
        }
      ]
    },
    {
      "cell_type": "code",
      "metadata": {
        "id": "iGyQ5Cs8SQHY"
      },
      "source": [
        "from nltk.util import bigrams,trigrams,ngrams"
      ],
      "execution_count": 33,
      "outputs": []
    },
    {
      "cell_type": "code",
      "metadata": {
        "id": "Kaq6n_MgS02o",
        "outputId": "80f8062e-d47d-4c4a-fd8d-1514ab82c76a",
        "colab": {
          "base_uri": "https://localhost:8080/"
        }
      },
      "source": [
        "string= \"England is a country that is part of the United Kingdom. It shares land borders with Wales to its west and Scotland to its north\"\n",
        "quotes_tokens=nltk.word_tokenize(string)\n",
        "quotes_tokens"
      ],
      "execution_count": 34,
      "outputs": [
        {
          "output_type": "execute_result",
          "data": {
            "text/plain": [
              "['England',\n",
              " 'is',\n",
              " 'a',\n",
              " 'country',\n",
              " 'that',\n",
              " 'is',\n",
              " 'part',\n",
              " 'of',\n",
              " 'the',\n",
              " 'United',\n",
              " 'Kingdom',\n",
              " '.',\n",
              " 'It',\n",
              " 'shares',\n",
              " 'land',\n",
              " 'borders',\n",
              " 'with',\n",
              " 'Wales',\n",
              " 'to',\n",
              " 'its',\n",
              " 'west',\n",
              " 'and',\n",
              " 'Scotland',\n",
              " 'to',\n",
              " 'its',\n",
              " 'north']"
            ]
          },
          "metadata": {
            "tags": []
          },
          "execution_count": 34
        }
      ]
    },
    {
      "cell_type": "code",
      "metadata": {
        "id": "rb4l9FOITME3",
        "outputId": "40295d79-4b05-4570-d7a7-bf0c31d36c12",
        "colab": {
          "base_uri": "https://localhost:8080/"
        }
      },
      "source": [
        "quotes_bigrams=list(nltk.bigrams(quotes_tokens))\n",
        "quotes_bigrams"
      ],
      "execution_count": 35,
      "outputs": [
        {
          "output_type": "execute_result",
          "data": {
            "text/plain": [
              "[('England', 'is'),\n",
              " ('is', 'a'),\n",
              " ('a', 'country'),\n",
              " ('country', 'that'),\n",
              " ('that', 'is'),\n",
              " ('is', 'part'),\n",
              " ('part', 'of'),\n",
              " ('of', 'the'),\n",
              " ('the', 'United'),\n",
              " ('United', 'Kingdom'),\n",
              " ('Kingdom', '.'),\n",
              " ('.', 'It'),\n",
              " ('It', 'shares'),\n",
              " ('shares', 'land'),\n",
              " ('land', 'borders'),\n",
              " ('borders', 'with'),\n",
              " ('with', 'Wales'),\n",
              " ('Wales', 'to'),\n",
              " ('to', 'its'),\n",
              " ('its', 'west'),\n",
              " ('west', 'and'),\n",
              " ('and', 'Scotland'),\n",
              " ('Scotland', 'to'),\n",
              " ('to', 'its'),\n",
              " ('its', 'north')]"
            ]
          },
          "metadata": {
            "tags": []
          },
          "execution_count": 35
        }
      ]
    },
    {
      "cell_type": "code",
      "metadata": {
        "id": "ZCBTDgGjTbTd",
        "outputId": "2cb7d879-f1ab-4319-cde3-1df1e622bb65",
        "colab": {
          "base_uri": "https://localhost:8080/"
        }
      },
      "source": [
        "quotes_trigrams=list(nltk.trigrams(quotes_tokens))\n",
        "quotes_trigrams"
      ],
      "execution_count": 36,
      "outputs": [
        {
          "output_type": "execute_result",
          "data": {
            "text/plain": [
              "[('England', 'is', 'a'),\n",
              " ('is', 'a', 'country'),\n",
              " ('a', 'country', 'that'),\n",
              " ('country', 'that', 'is'),\n",
              " ('that', 'is', 'part'),\n",
              " ('is', 'part', 'of'),\n",
              " ('part', 'of', 'the'),\n",
              " ('of', 'the', 'United'),\n",
              " ('the', 'United', 'Kingdom'),\n",
              " ('United', 'Kingdom', '.'),\n",
              " ('Kingdom', '.', 'It'),\n",
              " ('.', 'It', 'shares'),\n",
              " ('It', 'shares', 'land'),\n",
              " ('shares', 'land', 'borders'),\n",
              " ('land', 'borders', 'with'),\n",
              " ('borders', 'with', 'Wales'),\n",
              " ('with', 'Wales', 'to'),\n",
              " ('Wales', 'to', 'its'),\n",
              " ('to', 'its', 'west'),\n",
              " ('its', 'west', 'and'),\n",
              " ('west', 'and', 'Scotland'),\n",
              " ('and', 'Scotland', 'to'),\n",
              " ('Scotland', 'to', 'its'),\n",
              " ('to', 'its', 'north')]"
            ]
          },
          "metadata": {
            "tags": []
          },
          "execution_count": 36
        }
      ]
    },
    {
      "cell_type": "code",
      "metadata": {
        "id": "roLJC-EvTlNs",
        "outputId": "669b1a34-cad5-4efe-9a9a-4821d9ed890f",
        "colab": {
          "base_uri": "https://localhost:8080/"
        }
      },
      "source": [
        "quotes_ngrams=list(nltk.ngrams(quotes_tokens,5))\n",
        "quotes_ngrams"
      ],
      "execution_count": 38,
      "outputs": [
        {
          "output_type": "execute_result",
          "data": {
            "text/plain": [
              "[('England', 'is', 'a', 'country', 'that'),\n",
              " ('is', 'a', 'country', 'that', 'is'),\n",
              " ('a', 'country', 'that', 'is', 'part'),\n",
              " ('country', 'that', 'is', 'part', 'of'),\n",
              " ('that', 'is', 'part', 'of', 'the'),\n",
              " ('is', 'part', 'of', 'the', 'United'),\n",
              " ('part', 'of', 'the', 'United', 'Kingdom'),\n",
              " ('of', 'the', 'United', 'Kingdom', '.'),\n",
              " ('the', 'United', 'Kingdom', '.', 'It'),\n",
              " ('United', 'Kingdom', '.', 'It', 'shares'),\n",
              " ('Kingdom', '.', 'It', 'shares', 'land'),\n",
              " ('.', 'It', 'shares', 'land', 'borders'),\n",
              " ('It', 'shares', 'land', 'borders', 'with'),\n",
              " ('shares', 'land', 'borders', 'with', 'Wales'),\n",
              " ('land', 'borders', 'with', 'Wales', 'to'),\n",
              " ('borders', 'with', 'Wales', 'to', 'its'),\n",
              " ('with', 'Wales', 'to', 'its', 'west'),\n",
              " ('Wales', 'to', 'its', 'west', 'and'),\n",
              " ('to', 'its', 'west', 'and', 'Scotland'),\n",
              " ('its', 'west', 'and', 'Scotland', 'to'),\n",
              " ('west', 'and', 'Scotland', 'to', 'its'),\n",
              " ('and', 'Scotland', 'to', 'its', 'north')]"
            ]
          },
          "metadata": {
            "tags": []
          },
          "execution_count": 38
        }
      ]
    },
    {
      "cell_type": "code",
      "metadata": {
        "id": "_Q46oft0TvVo"
      },
      "source": [
        "from nltk.stem import PorterStemmer\n",
        "pst=PorterStemmer()"
      ],
      "execution_count": 39,
      "outputs": []
    },
    {
      "cell_type": "code",
      "metadata": {
        "id": "YGsWwPsVUEGO",
        "outputId": "4c4e439e-e015-45aa-dee1-d5145d5162c3",
        "colab": {
          "base_uri": "https://localhost:8080/",
          "height": 35
        }
      },
      "source": [
        "pst.stem(\"having\")"
      ],
      "execution_count": 40,
      "outputs": [
        {
          "output_type": "execute_result",
          "data": {
            "application/vnd.google.colaboratory.intrinsic+json": {
              "type": "string"
            },
            "text/plain": [
              "'have'"
            ]
          },
          "metadata": {
            "tags": []
          },
          "execution_count": 40
        }
      ]
    },
    {
      "cell_type": "code",
      "metadata": {
        "id": "Keaqx1H0UGhQ",
        "outputId": "feaa4f54-8884-4e7d-85b6-d4faf79fe7d6",
        "colab": {
          "base_uri": "https://localhost:8080/"
        }
      },
      "source": [
        "words_to_stem=[\"give\",\"giving\",\"given\",\"gave\"]\n",
        "for words in words_to_stem:\n",
        "  print(words+ \":\"+pst.stem(words))"
      ],
      "execution_count": 41,
      "outputs": [
        {
          "output_type": "stream",
          "text": [
            "give:give\n",
            "giving:give\n",
            "given:given\n",
            "gave:gave\n"
          ],
          "name": "stdout"
        }
      ]
    },
    {
      "cell_type": "code",
      "metadata": {
        "id": "8yWoz56gUaJ3",
        "outputId": "a9e740d0-71fd-4801-c099-b5a918afeef1",
        "colab": {
          "base_uri": "https://localhost:8080/"
        }
      },
      "source": [
        "from nltk.stem import LancasterStemmer\n",
        "lst=LancasterStemmer()\n",
        "for words in words_to_stem:\n",
        "  print(words+ \":\"+lst.stem(words))"
      ],
      "execution_count": 42,
      "outputs": [
        {
          "output_type": "stream",
          "text": [
            "give:giv\n",
            "giving:giv\n",
            "given:giv\n",
            "gave:gav\n"
          ],
          "name": "stdout"
        }
      ]
    },
    {
      "cell_type": "code",
      "metadata": {
        "id": "9zmpXwMkU1pq"
      },
      "source": [
        "from nltk.stem import SnowballStemmer\n",
        "sbst=SnowballStemmer('english')"
      ],
      "execution_count": 43,
      "outputs": []
    },
    {
      "cell_type": "code",
      "metadata": {
        "id": "p7DKpySBVL_1",
        "outputId": "1ebb94ea-c559-4166-d642-9daf9923c6a4",
        "colab": {
          "base_uri": "https://localhost:8080/"
        }
      },
      "source": [
        "for words in words_to_stem:\n",
        "  print(words+ \":\"+sbst.stem(words))"
      ],
      "execution_count": 44,
      "outputs": [
        {
          "output_type": "stream",
          "text": [
            "give:give\n",
            "giving:give\n",
            "given:given\n",
            "gave:gave\n"
          ],
          "name": "stdout"
        }
      ]
    },
    {
      "cell_type": "code",
      "metadata": {
        "id": "mzC7olb6VQpK"
      },
      "source": [
        "from nltk.stem import wordnet\n",
        "from nltk.stem import WordNetLemmatizer\n",
        "word_len=WordNetLemmatizer()"
      ],
      "execution_count": 45,
      "outputs": []
    },
    {
      "cell_type": "code",
      "metadata": {
        "id": "o2Aa7vs8VjDv",
        "outputId": "ced17674-25ad-452e-9273-330f4feb34e9",
        "colab": {
          "base_uri": "https://localhost:8080/",
          "height": 35
        }
      },
      "source": [
        "word_len.lemmatize('corpora')"
      ],
      "execution_count": 46,
      "outputs": [
        {
          "output_type": "execute_result",
          "data": {
            "application/vnd.google.colaboratory.intrinsic+json": {
              "type": "string"
            },
            "text/plain": [
              "'corpus'"
            ]
          },
          "metadata": {
            "tags": []
          },
          "execution_count": 46
        }
      ]
    },
    {
      "cell_type": "code",
      "metadata": {
        "id": "gaaZl0W1Vxy-",
        "outputId": "32028058-c9cd-4ed7-c897-70c4e442c465",
        "colab": {
          "base_uri": "https://localhost:8080/"
        }
      },
      "source": [
        "for words in words_to_stem:\n",
        "  print(words+ \":\"+word_len.lemmatize(words))"
      ],
      "execution_count": 47,
      "outputs": [
        {
          "output_type": "stream",
          "text": [
            "give:give\n",
            "giving:giving\n",
            "given:given\n",
            "gave:gave\n"
          ],
          "name": "stdout"
        }
      ]
    },
    {
      "cell_type": "code",
      "metadata": {
        "id": "elVBOLJTV_3L"
      },
      "source": [
        "from nltk.corpus import stopwords\n"
      ],
      "execution_count": 48,
      "outputs": []
    },
    {
      "cell_type": "code",
      "metadata": {
        "id": "MY6dpCFKWRlk",
        "outputId": "1aaa5fc6-bf9a-4526-e7cd-2a88e3ffbd2b",
        "colab": {
          "base_uri": "https://localhost:8080/"
        }
      },
      "source": [
        "stopwords.words('english')"
      ],
      "execution_count": 49,
      "outputs": [
        {
          "output_type": "execute_result",
          "data": {
            "text/plain": [
              "['i',\n",
              " 'me',\n",
              " 'my',\n",
              " 'myself',\n",
              " 'we',\n",
              " 'our',\n",
              " 'ours',\n",
              " 'ourselves',\n",
              " 'you',\n",
              " \"you're\",\n",
              " \"you've\",\n",
              " \"you'll\",\n",
              " \"you'd\",\n",
              " 'your',\n",
              " 'yours',\n",
              " 'yourself',\n",
              " 'yourselves',\n",
              " 'he',\n",
              " 'him',\n",
              " 'his',\n",
              " 'himself',\n",
              " 'she',\n",
              " \"she's\",\n",
              " 'her',\n",
              " 'hers',\n",
              " 'herself',\n",
              " 'it',\n",
              " \"it's\",\n",
              " 'its',\n",
              " 'itself',\n",
              " 'they',\n",
              " 'them',\n",
              " 'their',\n",
              " 'theirs',\n",
              " 'themselves',\n",
              " 'what',\n",
              " 'which',\n",
              " 'who',\n",
              " 'whom',\n",
              " 'this',\n",
              " 'that',\n",
              " \"that'll\",\n",
              " 'these',\n",
              " 'those',\n",
              " 'am',\n",
              " 'is',\n",
              " 'are',\n",
              " 'was',\n",
              " 'were',\n",
              " 'be',\n",
              " 'been',\n",
              " 'being',\n",
              " 'have',\n",
              " 'has',\n",
              " 'had',\n",
              " 'having',\n",
              " 'do',\n",
              " 'does',\n",
              " 'did',\n",
              " 'doing',\n",
              " 'a',\n",
              " 'an',\n",
              " 'the',\n",
              " 'and',\n",
              " 'but',\n",
              " 'if',\n",
              " 'or',\n",
              " 'because',\n",
              " 'as',\n",
              " 'until',\n",
              " 'while',\n",
              " 'of',\n",
              " 'at',\n",
              " 'by',\n",
              " 'for',\n",
              " 'with',\n",
              " 'about',\n",
              " 'against',\n",
              " 'between',\n",
              " 'into',\n",
              " 'through',\n",
              " 'during',\n",
              " 'before',\n",
              " 'after',\n",
              " 'above',\n",
              " 'below',\n",
              " 'to',\n",
              " 'from',\n",
              " 'up',\n",
              " 'down',\n",
              " 'in',\n",
              " 'out',\n",
              " 'on',\n",
              " 'off',\n",
              " 'over',\n",
              " 'under',\n",
              " 'again',\n",
              " 'further',\n",
              " 'then',\n",
              " 'once',\n",
              " 'here',\n",
              " 'there',\n",
              " 'when',\n",
              " 'where',\n",
              " 'why',\n",
              " 'how',\n",
              " 'all',\n",
              " 'any',\n",
              " 'both',\n",
              " 'each',\n",
              " 'few',\n",
              " 'more',\n",
              " 'most',\n",
              " 'other',\n",
              " 'some',\n",
              " 'such',\n",
              " 'no',\n",
              " 'nor',\n",
              " 'not',\n",
              " 'only',\n",
              " 'own',\n",
              " 'same',\n",
              " 'so',\n",
              " 'than',\n",
              " 'too',\n",
              " 'very',\n",
              " 's',\n",
              " 't',\n",
              " 'can',\n",
              " 'will',\n",
              " 'just',\n",
              " 'don',\n",
              " \"don't\",\n",
              " 'should',\n",
              " \"should've\",\n",
              " 'now',\n",
              " 'd',\n",
              " 'll',\n",
              " 'm',\n",
              " 'o',\n",
              " 're',\n",
              " 've',\n",
              " 'y',\n",
              " 'ain',\n",
              " 'aren',\n",
              " \"aren't\",\n",
              " 'couldn',\n",
              " \"couldn't\",\n",
              " 'didn',\n",
              " \"didn't\",\n",
              " 'doesn',\n",
              " \"doesn't\",\n",
              " 'hadn',\n",
              " \"hadn't\",\n",
              " 'hasn',\n",
              " \"hasn't\",\n",
              " 'haven',\n",
              " \"haven't\",\n",
              " 'isn',\n",
              " \"isn't\",\n",
              " 'ma',\n",
              " 'mightn',\n",
              " \"mightn't\",\n",
              " 'mustn',\n",
              " \"mustn't\",\n",
              " 'needn',\n",
              " \"needn't\",\n",
              " 'shan',\n",
              " \"shan't\",\n",
              " 'shouldn',\n",
              " \"shouldn't\",\n",
              " 'wasn',\n",
              " \"wasn't\",\n",
              " 'weren',\n",
              " \"weren't\",\n",
              " 'won',\n",
              " \"won't\",\n",
              " 'wouldn',\n",
              " \"wouldn't\"]"
            ]
          },
          "metadata": {
            "tags": []
          },
          "execution_count": 49
        }
      ]
    },
    {
      "cell_type": "code",
      "metadata": {
        "id": "BkHWiSHOWWyW",
        "outputId": "e0ecfd53-d57f-41b5-f973-778082b2f342",
        "colab": {
          "base_uri": "https://localhost:8080/"
        }
      },
      "source": [
        "len(stopwords.words('english'))"
      ],
      "execution_count": 50,
      "outputs": [
        {
          "output_type": "execute_result",
          "data": {
            "text/plain": [
              "179"
            ]
          },
          "metadata": {
            "tags": []
          },
          "execution_count": 50
        }
      ]
    },
    {
      "cell_type": "code",
      "metadata": {
        "id": "wA6Pf35iWdxf",
        "outputId": "89acf003-ac8a-4146-cba3-d33422446219",
        "colab": {
          "base_uri": "https://localhost:8080/"
        }
      },
      "source": [
        "fdist_top10"
      ],
      "execution_count": 51,
      "outputs": [
        {
          "output_type": "execute_result",
          "data": {
            "text/plain": [
              "[(',', 23),\n",
              " ('in', 11),\n",
              " ('the', 9),\n",
              " ('and', 8),\n",
              " ('he', 8),\n",
              " ('.', 7),\n",
              " ('for', 6),\n",
              " ('songs', 5),\n",
              " ('to', 4),\n",
              " ('tamil', 4)]"
            ]
          },
          "metadata": {
            "tags": []
          },
          "execution_count": 51
        }
      ]
    },
    {
      "cell_type": "code",
      "metadata": {
        "id": "8FCfGL1ZWsSn"
      },
      "source": [
        "import re\n",
        "punctuation=re.compile(r'[-.?!,:;(|0-9]')"
      ],
      "execution_count": 52,
      "outputs": []
    },
    {
      "cell_type": "code",
      "metadata": {
        "id": "mAbBChGcW70N"
      },
      "source": [
        "post_punctuation=[]\n",
        "for words in AI_tokens:\n",
        "  word=punctuation.sub(\"\",words)\n",
        "  if(len(word))>0:\n",
        "    post_punctuation.append(word)"
      ],
      "execution_count": 53,
      "outputs": []
    },
    {
      "cell_type": "code",
      "metadata": {
        "id": "d0LaXU3UXTpZ",
        "outputId": "9f66baa7-51a5-4eaa-f2c7-c5860e35a86a",
        "colab": {
          "base_uri": "https://localhost:8080/"
        }
      },
      "source": [
        "post_punctuation"
      ],
      "execution_count": 54,
      "outputs": [
        {
          "output_type": "execute_result",
          "data": {
            "text/plain": [
              "['Sripathi',\n",
              " 'Panditaradhyula',\n",
              " 'Balasubrahmanyam',\n",
              " 'June',\n",
              " '–',\n",
              " 'September',\n",
              " ')',\n",
              " 'also',\n",
              " 'referred',\n",
              " 'to',\n",
              " 'as',\n",
              " 'S',\n",
              " 'P',\n",
              " 'B',\n",
              " 'or',\n",
              " 'Balu',\n",
              " 'was',\n",
              " 'an',\n",
              " 'Indian',\n",
              " 'musician',\n",
              " 'playback',\n",
              " 'singer',\n",
              " 'television',\n",
              " 'anchor',\n",
              " 'music',\n",
              " 'director',\n",
              " 'actor',\n",
              " 'dubbing',\n",
              " 'artist',\n",
              " 'and',\n",
              " 'film',\n",
              " 'producer',\n",
              " 'who',\n",
              " 'worked',\n",
              " 'predominantly',\n",
              " 'in',\n",
              " 'Telugu',\n",
              " 'Tamil',\n",
              " 'Kannada',\n",
              " 'Hindi',\n",
              " 'and',\n",
              " 'Malayalam',\n",
              " 'films',\n",
              " 'He',\n",
              " 'won',\n",
              " 'six',\n",
              " 'National',\n",
              " 'Film',\n",
              " 'Awards',\n",
              " 'for',\n",
              " 'Best',\n",
              " 'Male',\n",
              " 'Playback',\n",
              " 'Singer',\n",
              " 'for',\n",
              " 'his',\n",
              " 'works',\n",
              " 'in',\n",
              " 'four',\n",
              " 'different',\n",
              " 'languages',\n",
              " 'Telugu',\n",
              " 'Tamil',\n",
              " 'Kannada',\n",
              " 'and',\n",
              " 'Hindi',\n",
              " 'Andhra',\n",
              " 'Pradesh',\n",
              " 'state',\n",
              " 'Nandi',\n",
              " 'Awards',\n",
              " 'for',\n",
              " 'his',\n",
              " 'work',\n",
              " 'in',\n",
              " 'Telugu',\n",
              " 'cinema',\n",
              " 'and',\n",
              " 'numerous',\n",
              " 'other',\n",
              " 'state',\n",
              " 'awards',\n",
              " 'from',\n",
              " 'Karnataka',\n",
              " 'and',\n",
              " 'Tamil',\n",
              " 'NaduIn',\n",
              " 'addition',\n",
              " 'he',\n",
              " 'won',\n",
              " 'the',\n",
              " 'Filmfare',\n",
              " 'Award',\n",
              " 'and',\n",
              " 'six',\n",
              " 'Filmfare',\n",
              " 'Award',\n",
              " 's',\n",
              " 'SouthAccording',\n",
              " 'to',\n",
              " 'some',\n",
              " 'sources',\n",
              " 'he',\n",
              " 'held',\n",
              " 'the',\n",
              " 'Guinness',\n",
              " 'World',\n",
              " 'Record',\n",
              " 'for',\n",
              " 'recording',\n",
              " 'the',\n",
              " 'highest',\n",
              " 'number',\n",
              " 'of',\n",
              " 'songs',\n",
              " 'by',\n",
              " 'a',\n",
              " 'singer',\n",
              " 'with',\n",
              " 'over',\n",
              " 'songs',\n",
              " 'He',\n",
              " 'recorded',\n",
              " 'songs',\n",
              " 'in',\n",
              " 'Kannada',\n",
              " 'for',\n",
              " 'the',\n",
              " 'composer',\n",
              " 'Upendra',\n",
              " 'Kumar',\n",
              " 'in',\n",
              " 'Bengaluru',\n",
              " 'from',\n",
              " 'am',\n",
              " 'to',\n",
              " 'pm',\n",
              " 'on',\n",
              " 'February',\n",
              " 'In',\n",
              " 'addition',\n",
              " 'he',\n",
              " 'recorded',\n",
              " 'songs',\n",
              " 'in',\n",
              " 'Tamil',\n",
              " 'and',\n",
              " 'songs',\n",
              " 'in',\n",
              " 'Hindi',\n",
              " 'in',\n",
              " 'a',\n",
              " 'day',\n",
              " 'which',\n",
              " 'has',\n",
              " 'also',\n",
              " 'been',\n",
              " 'called',\n",
              " 'a',\n",
              " 'record',\n",
              " '[',\n",
              " ']',\n",
              " 'In',\n",
              " 'he',\n",
              " 'received',\n",
              " 'the',\n",
              " 'state',\n",
              " 'NTR',\n",
              " 'National',\n",
              " 'Award',\n",
              " 'for',\n",
              " 'his',\n",
              " 'contributions',\n",
              " 'to',\n",
              " 'Indian',\n",
              " 'cinema',\n",
              " 'In',\n",
              " 'he',\n",
              " 'was',\n",
              " 'honoured',\n",
              " 'with',\n",
              " 'the',\n",
              " 'Silver',\n",
              " 'Peacock',\n",
              " 'Medal',\n",
              " 'as',\n",
              " 'Indian',\n",
              " 'Film',\n",
              " 'Personality',\n",
              " 'of',\n",
              " 'the',\n",
              " 'Year',\n",
              " 'He',\n",
              " 'was',\n",
              " 'a',\n",
              " 'recipient',\n",
              " 'of',\n",
              " 'the',\n",
              " 'Padma',\n",
              " 'Shri',\n",
              " ')',\n",
              " 'and',\n",
              " 'Padma',\n",
              " 'Bhushan',\n",
              " ')',\n",
              " 'from',\n",
              " 'the',\n",
              " 'Government',\n",
              " 'of',\n",
              " 'India']"
            ]
          },
          "metadata": {
            "tags": []
          },
          "execution_count": 54
        }
      ]
    },
    {
      "cell_type": "code",
      "metadata": {
        "id": "ow5l2NLDXWRY"
      },
      "source": [
        "sent=\"Davinci is natural when it comes to drawing\"\n",
        "sent_tokens=word_tokenize(sent)"
      ],
      "execution_count": 55,
      "outputs": []
    },
    {
      "cell_type": "code",
      "metadata": {
        "id": "mNEop6QnYFI5",
        "outputId": "77cbac24-7465-4920-8945-c746132067d3",
        "colab": {
          "base_uri": "https://localhost:8080/"
        }
      },
      "source": [
        "for token in sent_tokens:\n",
        "  print(nltk.pos_tag([token]))"
      ],
      "execution_count": 56,
      "outputs": [
        {
          "output_type": "stream",
          "text": [
            "[('Davinci', 'NN')]\n",
            "[('is', 'VBZ')]\n",
            "[('natural', 'JJ')]\n",
            "[('when', 'WRB')]\n",
            "[('it', 'PRP')]\n",
            "[('comes', 'VBZ')]\n",
            "[('to', 'TO')]\n",
            "[('drawing', 'VBG')]\n"
          ],
          "name": "stdout"
        }
      ]
    },
    {
      "cell_type": "code",
      "metadata": {
        "id": "e-KliFsdYRWI",
        "outputId": "dc4eef38-ac2e-4a43-86b5-ce75e61c43ce",
        "colab": {
          "base_uri": "https://localhost:8080/"
        }
      },
      "source": [
        "sent2=\"Nivii wants a delicious cake\"\n",
        "sent2_tokens=word_tokenize(sent2)\n",
        "for token in sent2_tokens:\n",
        "  print(nltk.pos_tag([token]))\n"
      ],
      "execution_count": 57,
      "outputs": [
        {
          "output_type": "stream",
          "text": [
            "[('Nivii', 'NN')]\n",
            "[('wants', 'VBZ')]\n",
            "[('a', 'DT')]\n",
            "[('delicious', 'JJ')]\n",
            "[('cake', 'NN')]\n"
          ],
          "name": "stdout"
        }
      ]
    },
    {
      "cell_type": "code",
      "metadata": {
        "id": "OLpcORRrYjhV"
      },
      "source": [
        "from nltk import ne_chunk"
      ],
      "execution_count": 59,
      "outputs": []
    },
    {
      "cell_type": "code",
      "metadata": {
        "id": "DznUq5ZPYyUM"
      },
      "source": [
        "NE_sent=\"Nivii stays in Coimbatore\""
      ],
      "execution_count": 60,
      "outputs": []
    },
    {
      "cell_type": "code",
      "metadata": {
        "id": "8osrBRJBY-LO"
      },
      "source": [
        "NE_tokens=word_tokenize(NE_sent)\n",
        "NE_tags=nltk.pos_tag(NE_tokens)"
      ],
      "execution_count": 61,
      "outputs": []
    },
    {
      "cell_type": "code",
      "metadata": {
        "id": "gY8bnIE3ZHg_",
        "outputId": "c54a39ab-1507-4ec9-e6c7-1585b700e302",
        "colab": {
          "base_uri": "https://localhost:8080/"
        }
      },
      "source": [
        "NE_NER=ne_chunk(NE_tags)\n",
        "print(NE_NER)"
      ],
      "execution_count": 62,
      "outputs": [
        {
          "output_type": "stream",
          "text": [
            "(S (GPE Nivii/NNP) stays/NNS in/IN (GPE Coimbatore/NNP))\n"
          ],
          "name": "stdout"
        }
      ]
    },
    {
      "cell_type": "code",
      "metadata": {
        "id": "4gzh4Q2sZRTb",
        "outputId": "a231d84e-56e6-4e1a-9c6d-df25a8d9a78a",
        "colab": {
          "base_uri": "https://localhost:8080/"
        }
      },
      "source": [
        "new=\"The big cat ate the little mouse after the fresh cheese\"\n",
        "new_tokens= nltk.pos_tag(word_tokenize(new))\n",
        "new_tokens"
      ],
      "execution_count": 63,
      "outputs": [
        {
          "output_type": "execute_result",
          "data": {
            "text/plain": [
              "[('The', 'DT'),\n",
              " ('big', 'JJ'),\n",
              " ('cat', 'NN'),\n",
              " ('ate', 'VBD'),\n",
              " ('the', 'DT'),\n",
              " ('little', 'JJ'),\n",
              " ('mouse', 'NN'),\n",
              " ('after', 'IN'),\n",
              " ('the', 'DT'),\n",
              " ('fresh', 'JJ'),\n",
              " ('cheese', 'NN')]"
            ]
          },
          "metadata": {
            "tags": []
          },
          "execution_count": 63
        }
      ]
    },
    {
      "cell_type": "code",
      "metadata": {
        "id": "sVqeCU7VZzEy"
      },
      "source": [
        "grammar_np=r\"NP: {<DT>?<JJ>*<NN>}\""
      ],
      "execution_count": 64,
      "outputs": []
    },
    {
      "cell_type": "code",
      "metadata": {
        "id": "qSVwKdw-aBkl"
      },
      "source": [
        "chunk_parser=nltk.RegexpParser(grammar_np)"
      ],
      "execution_count": 67,
      "outputs": []
    },
    {
      "cell_type": "code",
      "metadata": {
        "id": "7vd7aKYZaKQV",
        "outputId": "ccf066eb-2914-40aa-962b-42e79a08e64f",
        "colab": {
          "base_uri": "https://localhost:8080/",
          "height": 407
        }
      },
      "source": [
        "chunk_result=chunk_parser.parse(new_tokens)\n",
        "chunk_result"
      ],
      "execution_count": 68,
      "outputs": [
        {
          "output_type": "error",
          "ename": "TclError",
          "evalue": "ignored",
          "traceback": [
            "\u001b[0;31m---------------------------------------------------------------------------\u001b[0m",
            "\u001b[0;31mTclError\u001b[0m                                  Traceback (most recent call last)",
            "\u001b[0;32m/usr/local/lib/python3.6/dist-packages/IPython/core/formatters.py\u001b[0m in \u001b[0;36m__call__\u001b[0;34m(self, obj)\u001b[0m\n\u001b[1;32m    336\u001b[0m             \u001b[0mmethod\u001b[0m \u001b[0;34m=\u001b[0m \u001b[0mget_real_method\u001b[0m\u001b[0;34m(\u001b[0m\u001b[0mobj\u001b[0m\u001b[0;34m,\u001b[0m \u001b[0mself\u001b[0m\u001b[0;34m.\u001b[0m\u001b[0mprint_method\u001b[0m\u001b[0;34m)\u001b[0m\u001b[0;34m\u001b[0m\u001b[0;34m\u001b[0m\u001b[0m\n\u001b[1;32m    337\u001b[0m             \u001b[0;32mif\u001b[0m \u001b[0mmethod\u001b[0m \u001b[0;32mis\u001b[0m \u001b[0;32mnot\u001b[0m \u001b[0;32mNone\u001b[0m\u001b[0;34m:\u001b[0m\u001b[0;34m\u001b[0m\u001b[0;34m\u001b[0m\u001b[0m\n\u001b[0;32m--> 338\u001b[0;31m                 \u001b[0;32mreturn\u001b[0m \u001b[0mmethod\u001b[0m\u001b[0;34m(\u001b[0m\u001b[0;34m)\u001b[0m\u001b[0;34m\u001b[0m\u001b[0;34m\u001b[0m\u001b[0m\n\u001b[0m\u001b[1;32m    339\u001b[0m             \u001b[0;32mreturn\u001b[0m \u001b[0;32mNone\u001b[0m\u001b[0;34m\u001b[0m\u001b[0;34m\u001b[0m\u001b[0m\n\u001b[1;32m    340\u001b[0m         \u001b[0;32melse\u001b[0m\u001b[0;34m:\u001b[0m\u001b[0;34m\u001b[0m\u001b[0;34m\u001b[0m\u001b[0m\n",
            "\u001b[0;32m/usr/local/lib/python3.6/dist-packages/nltk/tree.py\u001b[0m in \u001b[0;36m_repr_png_\u001b[0;34m(self)\u001b[0m\n\u001b[1;32m    717\u001b[0m         \u001b[0;32mfrom\u001b[0m \u001b[0mnltk\u001b[0m\u001b[0;34m.\u001b[0m\u001b[0mdraw\u001b[0m\u001b[0;34m.\u001b[0m\u001b[0mutil\u001b[0m \u001b[0;32mimport\u001b[0m \u001b[0mCanvasFrame\u001b[0m\u001b[0;34m\u001b[0m\u001b[0;34m\u001b[0m\u001b[0m\n\u001b[1;32m    718\u001b[0m         \u001b[0;32mfrom\u001b[0m \u001b[0mnltk\u001b[0m\u001b[0;34m.\u001b[0m\u001b[0minternals\u001b[0m \u001b[0;32mimport\u001b[0m \u001b[0mfind_binary\u001b[0m\u001b[0;34m\u001b[0m\u001b[0;34m\u001b[0m\u001b[0m\n\u001b[0;32m--> 719\u001b[0;31m         \u001b[0m_canvas_frame\u001b[0m \u001b[0;34m=\u001b[0m \u001b[0mCanvasFrame\u001b[0m\u001b[0;34m(\u001b[0m\u001b[0;34m)\u001b[0m\u001b[0;34m\u001b[0m\u001b[0;34m\u001b[0m\u001b[0m\n\u001b[0m\u001b[1;32m    720\u001b[0m         \u001b[0mwidget\u001b[0m \u001b[0;34m=\u001b[0m \u001b[0mtree_to_treesegment\u001b[0m\u001b[0;34m(\u001b[0m\u001b[0m_canvas_frame\u001b[0m\u001b[0;34m.\u001b[0m\u001b[0mcanvas\u001b[0m\u001b[0;34m(\u001b[0m\u001b[0;34m)\u001b[0m\u001b[0;34m,\u001b[0m \u001b[0mself\u001b[0m\u001b[0;34m)\u001b[0m\u001b[0;34m\u001b[0m\u001b[0;34m\u001b[0m\u001b[0m\n\u001b[1;32m    721\u001b[0m         \u001b[0m_canvas_frame\u001b[0m\u001b[0;34m.\u001b[0m\u001b[0madd_widget\u001b[0m\u001b[0;34m(\u001b[0m\u001b[0mwidget\u001b[0m\u001b[0;34m)\u001b[0m\u001b[0;34m\u001b[0m\u001b[0;34m\u001b[0m\u001b[0m\n",
            "\u001b[0;32m/usr/local/lib/python3.6/dist-packages/nltk/draw/util.py\u001b[0m in \u001b[0;36m__init__\u001b[0;34m(self, parent, **kw)\u001b[0m\n\u001b[1;32m   1651\u001b[0m         \u001b[0;31m# If no parent was given, set up a top-level window.\u001b[0m\u001b[0;34m\u001b[0m\u001b[0;34m\u001b[0m\u001b[0;34m\u001b[0m\u001b[0m\n\u001b[1;32m   1652\u001b[0m         \u001b[0;32mif\u001b[0m \u001b[0mparent\u001b[0m \u001b[0;32mis\u001b[0m \u001b[0;32mNone\u001b[0m\u001b[0;34m:\u001b[0m\u001b[0;34m\u001b[0m\u001b[0;34m\u001b[0m\u001b[0m\n\u001b[0;32m-> 1653\u001b[0;31m             \u001b[0mself\u001b[0m\u001b[0;34m.\u001b[0m\u001b[0m_parent\u001b[0m \u001b[0;34m=\u001b[0m \u001b[0mTk\u001b[0m\u001b[0;34m(\u001b[0m\u001b[0;34m)\u001b[0m\u001b[0;34m\u001b[0m\u001b[0;34m\u001b[0m\u001b[0m\n\u001b[0m\u001b[1;32m   1654\u001b[0m             \u001b[0mself\u001b[0m\u001b[0;34m.\u001b[0m\u001b[0m_parent\u001b[0m\u001b[0;34m.\u001b[0m\u001b[0mtitle\u001b[0m\u001b[0;34m(\u001b[0m\u001b[0;34m'NLTK'\u001b[0m\u001b[0;34m)\u001b[0m\u001b[0;34m\u001b[0m\u001b[0;34m\u001b[0m\u001b[0m\n\u001b[1;32m   1655\u001b[0m             \u001b[0mself\u001b[0m\u001b[0;34m.\u001b[0m\u001b[0m_parent\u001b[0m\u001b[0;34m.\u001b[0m\u001b[0mbind\u001b[0m\u001b[0;34m(\u001b[0m\u001b[0;34m'<Control-p>'\u001b[0m\u001b[0;34m,\u001b[0m \u001b[0;32mlambda\u001b[0m \u001b[0me\u001b[0m\u001b[0;34m:\u001b[0m \u001b[0mself\u001b[0m\u001b[0;34m.\u001b[0m\u001b[0mprint_to_file\u001b[0m\u001b[0;34m(\u001b[0m\u001b[0;34m)\u001b[0m\u001b[0;34m)\u001b[0m\u001b[0;34m\u001b[0m\u001b[0;34m\u001b[0m\u001b[0m\n",
            "\u001b[0;32m/usr/lib/python3.6/tkinter/__init__.py\u001b[0m in \u001b[0;36m__init__\u001b[0;34m(self, screenName, baseName, className, useTk, sync, use)\u001b[0m\n\u001b[1;32m   2021\u001b[0m                 \u001b[0mbaseName\u001b[0m \u001b[0;34m=\u001b[0m \u001b[0mbaseName\u001b[0m \u001b[0;34m+\u001b[0m \u001b[0mext\u001b[0m\u001b[0;34m\u001b[0m\u001b[0;34m\u001b[0m\u001b[0m\n\u001b[1;32m   2022\u001b[0m         \u001b[0minteractive\u001b[0m \u001b[0;34m=\u001b[0m \u001b[0;36m0\u001b[0m\u001b[0;34m\u001b[0m\u001b[0;34m\u001b[0m\u001b[0m\n\u001b[0;32m-> 2023\u001b[0;31m         \u001b[0mself\u001b[0m\u001b[0;34m.\u001b[0m\u001b[0mtk\u001b[0m \u001b[0;34m=\u001b[0m \u001b[0m_tkinter\u001b[0m\u001b[0;34m.\u001b[0m\u001b[0mcreate\u001b[0m\u001b[0;34m(\u001b[0m\u001b[0mscreenName\u001b[0m\u001b[0;34m,\u001b[0m \u001b[0mbaseName\u001b[0m\u001b[0;34m,\u001b[0m \u001b[0mclassName\u001b[0m\u001b[0;34m,\u001b[0m \u001b[0minteractive\u001b[0m\u001b[0;34m,\u001b[0m \u001b[0mwantobjects\u001b[0m\u001b[0;34m,\u001b[0m \u001b[0museTk\u001b[0m\u001b[0;34m,\u001b[0m \u001b[0msync\u001b[0m\u001b[0;34m,\u001b[0m \u001b[0muse\u001b[0m\u001b[0;34m)\u001b[0m\u001b[0;34m\u001b[0m\u001b[0;34m\u001b[0m\u001b[0m\n\u001b[0m\u001b[1;32m   2024\u001b[0m         \u001b[0;32mif\u001b[0m \u001b[0museTk\u001b[0m\u001b[0;34m:\u001b[0m\u001b[0;34m\u001b[0m\u001b[0;34m\u001b[0m\u001b[0m\n\u001b[1;32m   2025\u001b[0m             \u001b[0mself\u001b[0m\u001b[0;34m.\u001b[0m\u001b[0m_loadtk\u001b[0m\u001b[0;34m(\u001b[0m\u001b[0;34m)\u001b[0m\u001b[0;34m\u001b[0m\u001b[0;34m\u001b[0m\u001b[0m\n",
            "\u001b[0;31mTclError\u001b[0m: no display name and no $DISPLAY environment variable"
          ]
        },
        {
          "output_type": "execute_result",
          "data": {
            "text/plain": [
              "Tree('S', [Tree('NP', [('The', 'DT'), ('big', 'JJ'), ('cat', 'NN')]), ('ate', 'VBD'), Tree('NP', [('the', 'DT'), ('little', 'JJ'), ('mouse', 'NN')]), ('after', 'IN'), Tree('NP', [('the', 'DT'), ('fresh', 'JJ'), ('cheese', 'NN')])])"
            ]
          },
          "metadata": {
            "tags": []
          },
          "execution_count": 68
        }
      ]
    },
    {
      "cell_type": "code",
      "metadata": {
        "id": "kxG60JWZaW_D"
      },
      "source": [
        ""
      ],
      "execution_count": null,
      "outputs": []
    }
  ]
}