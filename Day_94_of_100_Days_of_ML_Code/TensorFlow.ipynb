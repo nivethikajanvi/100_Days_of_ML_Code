{
  "nbformat": 4,
  "nbformat_minor": 0,
  "metadata": {
    "colab": {
      "name": "TensorFlow",
      "provenance": []
    },
    "kernelspec": {
      "name": "python3",
      "display_name": "Python 3"
    }
  },
  "cells": [
    {
      "cell_type": "code",
      "metadata": {
        "id": "OT9dOV__CfVk",
        "outputId": "37d9a55b-619b-4f5d-894a-a3b4a776bc36",
        "colab": {
          "base_uri": "https://localhost:8080/"
        }
      },
      "source": [
        "import tensorflow as tf\n",
        "print(tf.version)"
      ],
      "execution_count": 18,
      "outputs": [
        {
          "output_type": "stream",
          "text": [
            "<module 'tensorflow._api.v2.version' from '/usr/local/lib/python3.6/dist-packages/tensorflow/_api/v2/version/__init__.py'>\n"
          ],
          "name": "stdout"
        }
      ]
    },
    {
      "cell_type": "code",
      "metadata": {
        "id": "DNhPihYsC-UJ"
      },
      "source": [
        "scalar_val = tf.Variable(123,tf.int16)\n",
        "floating_val = tf.Variable(123.456,tf.float32)\n",
        "\n"
      ],
      "execution_count": 19,
      "outputs": []
    },
    {
      "cell_type": "code",
      "metadata": {
        "id": "faapng0XDXxI",
        "outputId": "bd0285a2-20a0-41c9-aafb-1cf735a67a35",
        "colab": {
          "base_uri": "https://localhost:8080/"
        }
      },
      "source": [
        "print(scalar_val)\n",
        "print(floating_val)"
      ],
      "execution_count": 20,
      "outputs": [
        {
          "output_type": "stream",
          "text": [
            "<tf.Variable 'Variable:0' shape=() dtype=int32, numpy=123>\n",
            "<tf.Variable 'Variable:0' shape=() dtype=float32, numpy=123.456>\n"
          ],
          "name": "stdout"
        }
      ]
    },
    {
      "cell_type": "code",
      "metadata": {
        "id": "TJjR5RDOEXyS",
        "outputId": "5d749214-bb95-482b-eaf6-9d161ea449ed",
        "colab": {
          "base_uri": "https://localhost:8080/"
        }
      },
      "source": [
        "scalar_val_shap = tf.shape(scalar_val)\n",
        "print(scalar_val_shap)\n",
        "floating_val_shap = tf.shape(floating_val)\n",
        "print(floating_val_shap)"
      ],
      "execution_count": 21,
      "outputs": [
        {
          "output_type": "stream",
          "text": [
            "tf.Tensor([], shape=(0,), dtype=int32)\n",
            "tf.Tensor([], shape=(0,), dtype=int32)\n"
          ],
          "name": "stdout"
        }
      ]
    },
    {
      "cell_type": "code",
      "metadata": {
        "id": "IGhg_flUEqHi",
        "outputId": "d19b9ad1-2cfc-4ac9-d612-18f7c5a42f67",
        "colab": {
          "base_uri": "https://localhost:8080/"
        }
      },
      "source": [
        "list_tensor1 = tf.Variable([1,3,5,6],tf.int16)\n",
        "print(list_tensor1)\n",
        "print(tf.shape(list_tensor1))\n",
        "list_tensor2 = tf.Variable([[1,2,3],[4,5,6]],tf.int16)\n",
        "print(list_tensor2)\n",
        "print(tf.shape(list_tensor2))\n",
        "print(tf.rank(list_tensor1))\n",
        "print(tf.rank(list_tensor2))"
      ],
      "execution_count": 22,
      "outputs": [
        {
          "output_type": "stream",
          "text": [
            "<tf.Variable 'Variable:0' shape=(4,) dtype=int32, numpy=array([1, 3, 5, 6], dtype=int32)>\n",
            "tf.Tensor([4], shape=(1,), dtype=int32)\n",
            "<tf.Variable 'Variable:0' shape=(2, 3) dtype=int32, numpy=\n",
            "array([[1, 2, 3],\n",
            "       [4, 5, 6]], dtype=int32)>\n",
            "tf.Tensor([2 3], shape=(2,), dtype=int32)\n",
            "tf.Tensor(1, shape=(), dtype=int32)\n",
            "tf.Tensor(2, shape=(), dtype=int32)\n"
          ],
          "name": "stdout"
        }
      ]
    },
    {
      "cell_type": "code",
      "metadata": {
        "id": "PcSFAZfkE1bY",
        "outputId": "b8a7852c-8367-45b9-dde0-28fb1bf09086",
        "colab": {
          "base_uri": "https://localhost:8080/"
        }
      },
      "source": [
        "reshaped_list_tensor2 = tf.reshape(list_tensor2,[6])\n",
        "print(reshaped_list_tensor2)\n",
        "list_tensor3 = tf.Variable([[1,2,3,1],[1,9,10,11],[1,5,11,22],[16,17,18,19]],tf.int16)\n",
        "print(list_tensor3)\n",
        "print(tf.rank(list_tensor3))\n",
        "print(tf.shape(list_tensor3))\n",
        "reshaped_list_tensor3 = tf.reshape(list_tensor3,[2,8,1])\n",
        "print(reshaped_list_tensor3)\n",
        "#or like this\n",
        "reshaped_list_tensor3 = tf.reshape(list_tensor3,[8,2,1])\n",
        "print(reshaped_list_tensor3)\n",
        "#or automatically determine the shape by only giving one dimension!\n",
        "reshaped_list_tensor3 = tf.reshape(list_tensor3,[1,-1])\n",
        "print(reshaped_list_tensor3)"
      ],
      "execution_count": 23,
      "outputs": [
        {
          "output_type": "stream",
          "text": [
            "tf.Tensor([1 2 3 4 5 6], shape=(6,), dtype=int32)\n",
            "<tf.Variable 'Variable:0' shape=(4, 4) dtype=int32, numpy=\n",
            "array([[ 1,  2,  3,  1],\n",
            "       [ 1,  9, 10, 11],\n",
            "       [ 1,  5, 11, 22],\n",
            "       [16, 17, 18, 19]], dtype=int32)>\n",
            "tf.Tensor(2, shape=(), dtype=int32)\n",
            "tf.Tensor([4 4], shape=(2,), dtype=int32)\n",
            "tf.Tensor(\n",
            "[[[ 1]\n",
            "  [ 2]\n",
            "  [ 3]\n",
            "  [ 1]\n",
            "  [ 1]\n",
            "  [ 9]\n",
            "  [10]\n",
            "  [11]]\n",
            "\n",
            " [[ 1]\n",
            "  [ 5]\n",
            "  [11]\n",
            "  [22]\n",
            "  [16]\n",
            "  [17]\n",
            "  [18]\n",
            "  [19]]], shape=(2, 8, 1), dtype=int32)\n",
            "tf.Tensor(\n",
            "[[[ 1]\n",
            "  [ 2]]\n",
            "\n",
            " [[ 3]\n",
            "  [ 1]]\n",
            "\n",
            " [[ 1]\n",
            "  [ 9]]\n",
            "\n",
            " [[10]\n",
            "  [11]]\n",
            "\n",
            " [[ 1]\n",
            "  [ 5]]\n",
            "\n",
            " [[11]\n",
            "  [22]]\n",
            "\n",
            " [[16]\n",
            "  [17]]\n",
            "\n",
            " [[18]\n",
            "  [19]]], shape=(8, 2, 1), dtype=int32)\n",
            "tf.Tensor([[ 1  2  3  1  1  9 10 11  1  5 11 22 16 17 18 19]], shape=(1, 16), dtype=int32)\n"
          ],
          "name": "stdout"
        }
      ]
    },
    {
      "cell_type": "code",
      "metadata": {
        "id": "GuqaW2oIE61z",
        "outputId": "495fd401-1278-41e7-b2b3-ea1728ed43cd",
        "colab": {
          "base_uri": "https://localhost:8080/"
        }
      },
      "source": [
        "tensor_onefull = tf.ones([4,4,4,1])\n",
        "print(tensor_onefull)\n",
        "tensor_zerofull = tf.zeros([5,5])\n",
        "print(tensor_zerofull)\n",
        "#extracting specific values from tensors (similar to slicing in conventional programming)\n",
        "tensor_sliced_onefull = tensor_onefull[0]\n",
        "print(tensor_sliced_onefull)\n",
        "tensor_sliced_zerofull = tensor_zerofull[0,1]\n",
        "print(tensor_sliced_zerofull)"
      ],
      "execution_count": 24,
      "outputs": [
        {
          "output_type": "stream",
          "text": [
            "tf.Tensor(\n",
            "[[[[1.]\n",
            "   [1.]\n",
            "   [1.]\n",
            "   [1.]]\n",
            "\n",
            "  [[1.]\n",
            "   [1.]\n",
            "   [1.]\n",
            "   [1.]]\n",
            "\n",
            "  [[1.]\n",
            "   [1.]\n",
            "   [1.]\n",
            "   [1.]]\n",
            "\n",
            "  [[1.]\n",
            "   [1.]\n",
            "   [1.]\n",
            "   [1.]]]\n",
            "\n",
            "\n",
            " [[[1.]\n",
            "   [1.]\n",
            "   [1.]\n",
            "   [1.]]\n",
            "\n",
            "  [[1.]\n",
            "   [1.]\n",
            "   [1.]\n",
            "   [1.]]\n",
            "\n",
            "  [[1.]\n",
            "   [1.]\n",
            "   [1.]\n",
            "   [1.]]\n",
            "\n",
            "  [[1.]\n",
            "   [1.]\n",
            "   [1.]\n",
            "   [1.]]]\n",
            "\n",
            "\n",
            " [[[1.]\n",
            "   [1.]\n",
            "   [1.]\n",
            "   [1.]]\n",
            "\n",
            "  [[1.]\n",
            "   [1.]\n",
            "   [1.]\n",
            "   [1.]]\n",
            "\n",
            "  [[1.]\n",
            "   [1.]\n",
            "   [1.]\n",
            "   [1.]]\n",
            "\n",
            "  [[1.]\n",
            "   [1.]\n",
            "   [1.]\n",
            "   [1.]]]\n",
            "\n",
            "\n",
            " [[[1.]\n",
            "   [1.]\n",
            "   [1.]\n",
            "   [1.]]\n",
            "\n",
            "  [[1.]\n",
            "   [1.]\n",
            "   [1.]\n",
            "   [1.]]\n",
            "\n",
            "  [[1.]\n",
            "   [1.]\n",
            "   [1.]\n",
            "   [1.]]\n",
            "\n",
            "  [[1.]\n",
            "   [1.]\n",
            "   [1.]\n",
            "   [1.]]]], shape=(4, 4, 4, 1), dtype=float32)\n",
            "tf.Tensor(\n",
            "[[0. 0. 0. 0. 0.]\n",
            " [0. 0. 0. 0. 0.]\n",
            " [0. 0. 0. 0. 0.]\n",
            " [0. 0. 0. 0. 0.]\n",
            " [0. 0. 0. 0. 0.]], shape=(5, 5), dtype=float32)\n",
            "tf.Tensor(\n",
            "[[[1.]\n",
            "  [1.]\n",
            "  [1.]\n",
            "  [1.]]\n",
            "\n",
            " [[1.]\n",
            "  [1.]\n",
            "  [1.]\n",
            "  [1.]]\n",
            "\n",
            " [[1.]\n",
            "  [1.]\n",
            "  [1.]\n",
            "  [1.]]\n",
            "\n",
            " [[1.]\n",
            "  [1.]\n",
            "  [1.]\n",
            "  [1.]]], shape=(4, 4, 1), dtype=float32)\n",
            "tf.Tensor(0.0, shape=(), dtype=float32)\n"
          ],
          "name": "stdout"
        }
      ]
    },
    {
      "cell_type": "code",
      "metadata": {
        "id": "FyCTOjwJFARU",
        "outputId": "6995fc63-40ae-4d98-9837-f61d842fb772",
        "colab": {
          "base_uri": "https://localhost:8080/"
        }
      },
      "source": [
        "print(list_tensor3)\n",
        "tf_slicedexampleagain = list_tensor3[0,-2:]\n",
        "print(tf_slicedexampleagain)\n",
        "#selecting multiple rows\n",
        "tf_slicedexampleagain = list_tensor3[1::]\n",
        "print(tf_slicedexampleagain)\n"
      ],
      "execution_count": 25,
      "outputs": [
        {
          "output_type": "stream",
          "text": [
            "<tf.Variable 'Variable:0' shape=(4, 4) dtype=int32, numpy=\n",
            "array([[ 1,  2,  3,  1],\n",
            "       [ 1,  9, 10, 11],\n",
            "       [ 1,  5, 11, 22],\n",
            "       [16, 17, 18, 19]], dtype=int32)>\n",
            "tf.Tensor([3 1], shape=(2,), dtype=int32)\n",
            "tf.Tensor(\n",
            "[[ 1  9 10 11]\n",
            " [ 1  5 11 22]\n",
            " [16 17 18 19]], shape=(3, 4), dtype=int32)\n"
          ],
          "name": "stdout"
        }
      ]
    },
    {
      "cell_type": "code",
      "metadata": {
        "id": "l01sfoQkFC8R",
        "outputId": "2929d200-6086-464d-f7c2-94a64f0657d9",
        "colab": {
          "base_uri": "https://localhost:8080/"
        }
      },
      "source": [
        "mnist = tf.keras.datasets.mnist\n",
        "\n",
        "(x_train, y_train), (x_test, y_test) = mnist.load_data()\n",
        "x_train, x_test = x_train / 255.0, x_test / 255.0"
      ],
      "execution_count": 26,
      "outputs": [
        {
          "output_type": "stream",
          "text": [
            "Downloading data from https://storage.googleapis.com/tensorflow/tf-keras-datasets/mnist.npz\n",
            "11493376/11490434 [==============================] - 0s 0us/step\n"
          ],
          "name": "stdout"
        }
      ]
    },
    {
      "cell_type": "code",
      "metadata": {
        "id": "UA5yjDTTRA_u"
      },
      "source": [
        "model = tf.keras.models.Sequential([\n",
        "  tf.keras.layers.Flatten(input_shape=(28, 28)),\n",
        "  tf.keras.layers.Dense(128, activation='relu'),\n",
        "  tf.keras.layers.Dropout(0.2),\n",
        "  tf.keras.layers.Dense(10)\n",
        "])"
      ],
      "execution_count": 27,
      "outputs": []
    },
    {
      "cell_type": "code",
      "metadata": {
        "id": "7FhEkioCRJGA",
        "outputId": "ce2fcf26-0af9-48e1-9ccf-4a9167a50aa9",
        "colab": {
          "base_uri": "https://localhost:8080/"
        }
      },
      "source": [
        "predictions = model(x_train[:1]).numpy()\n",
        "predictions"
      ],
      "execution_count": 28,
      "outputs": [
        {
          "output_type": "execute_result",
          "data": {
            "text/plain": [
              "array([[-0.44679457,  0.18291084, -0.30251428, -0.1914438 , -0.01479832,\n",
              "         0.18445545, -0.8592036 ,  0.005288  , -0.19497217, -0.26331586]],\n",
              "      dtype=float32)"
            ]
          },
          "metadata": {
            "tags": []
          },
          "execution_count": 28
        }
      ]
    },
    {
      "cell_type": "code",
      "metadata": {
        "id": "G4SJf5bhRLiw",
        "outputId": "05106b01-f266-4594-adfc-07a6ba162ff2",
        "colab": {
          "base_uri": "https://localhost:8080/"
        }
      },
      "source": [
        "tf.nn.softmax(predictions).numpy()"
      ],
      "execution_count": 29,
      "outputs": [
        {
          "output_type": "execute_result",
          "data": {
            "text/plain": [
              "array([[0.07426739, 0.13940416, 0.08579427, 0.09587283, 0.11439624,\n",
              "        0.13961965, 0.04916898, 0.11671726, 0.09553516, 0.08922405]],\n",
              "      dtype=float32)"
            ]
          },
          "metadata": {
            "tags": []
          },
          "execution_count": 29
        }
      ]
    },
    {
      "cell_type": "code",
      "metadata": {
        "id": "U0BOrZwfRNoZ"
      },
      "source": [
        "loss_fn = tf.keras.losses.SparseCategoricalCrossentropy(from_logits=True)"
      ],
      "execution_count": 30,
      "outputs": []
    },
    {
      "cell_type": "code",
      "metadata": {
        "id": "VEa0eZPxRQS4",
        "outputId": "858cb117-135a-401b-e94e-5a0fdc355f5e",
        "colab": {
          "base_uri": "https://localhost:8080/"
        }
      },
      "source": [
        "loss_fn(y_train[:1], predictions).numpy()"
      ],
      "execution_count": 31,
      "outputs": [
        {
          "output_type": "execute_result",
          "data": {
            "text/plain": [
              "1.9688333"
            ]
          },
          "metadata": {
            "tags": []
          },
          "execution_count": 31
        }
      ]
    },
    {
      "cell_type": "code",
      "metadata": {
        "id": "X61mAD4kRSa8"
      },
      "source": [
        "model.compile(optimizer='adam',\n",
        "              loss=loss_fn,\n",
        "              metrics=['accuracy'])"
      ],
      "execution_count": 32,
      "outputs": []
    },
    {
      "cell_type": "code",
      "metadata": {
        "id": "cmK7tyxYRUV3",
        "outputId": "657f157e-fa0d-4589-9ef5-1bfab16da985",
        "colab": {
          "base_uri": "https://localhost:8080/"
        }
      },
      "source": [
        "model.fit(x_train, y_train, epochs=5)"
      ],
      "execution_count": 33,
      "outputs": [
        {
          "output_type": "stream",
          "text": [
            "Epoch 1/5\n",
            "1875/1875 [==============================] - 3s 2ms/step - loss: 0.2969 - accuracy: 0.9143\n",
            "Epoch 2/5\n",
            "1875/1875 [==============================] - 3s 2ms/step - loss: 0.1384 - accuracy: 0.9590\n",
            "Epoch 3/5\n",
            "1875/1875 [==============================] - 3s 2ms/step - loss: 0.1058 - accuracy: 0.9684\n",
            "Epoch 4/5\n",
            "1875/1875 [==============================] - 3s 2ms/step - loss: 0.0862 - accuracy: 0.9738\n",
            "Epoch 5/5\n",
            "1875/1875 [==============================] - 3s 2ms/step - loss: 0.0743 - accuracy: 0.9767\n"
          ],
          "name": "stdout"
        },
        {
          "output_type": "execute_result",
          "data": {
            "text/plain": [
              "<tensorflow.python.keras.callbacks.History at 0x7f785b6c7710>"
            ]
          },
          "metadata": {
            "tags": []
          },
          "execution_count": 33
        }
      ]
    },
    {
      "cell_type": "code",
      "metadata": {
        "id": "Uq7KGTNIRWCv",
        "outputId": "c3be7f44-3372-4963-de7e-3660270abf27",
        "colab": {
          "base_uri": "https://localhost:8080/"
        }
      },
      "source": [
        "model.evaluate(x_test,  y_test, verbose=2)"
      ],
      "execution_count": 34,
      "outputs": [
        {
          "output_type": "stream",
          "text": [
            "313/313 - 0s - loss: 0.0720 - accuracy: 0.9783\n"
          ],
          "name": "stdout"
        },
        {
          "output_type": "execute_result",
          "data": {
            "text/plain": [
              "[0.07203935831785202, 0.9782999753952026]"
            ]
          },
          "metadata": {
            "tags": []
          },
          "execution_count": 34
        }
      ]
    },
    {
      "cell_type": "code",
      "metadata": {
        "id": "swZc1gW_RYnn"
      },
      "source": [
        "probability_model = tf.keras.Sequential([\n",
        "  model,\n",
        "  tf.keras.layers.Softmax()\n",
        "])\n"
      ],
      "execution_count": 35,
      "outputs": []
    },
    {
      "cell_type": "code",
      "metadata": {
        "id": "pd5ivbw4Rcj8",
        "outputId": "b9d414a9-e88e-4f91-80fa-c61ba5c7f87b",
        "colab": {
          "base_uri": "https://localhost:8080/"
        }
      },
      "source": [
        "probability_model(x_test[:5])"
      ],
      "execution_count": 36,
      "outputs": [
        {
          "output_type": "execute_result",
          "data": {
            "text/plain": [
              "<tf.Tensor: shape=(5, 10), dtype=float32, numpy=\n",
              "array([[5.80219928e-10, 2.23527756e-08, 2.68592601e-07, 4.28549611e-05,\n",
              "        1.06095258e-10, 1.46632857e-07, 9.02622215e-13, 9.99956608e-01,\n",
              "        1.81017956e-08, 1.01788956e-07],\n",
              "       [1.81136729e-05, 8.06487631e-04, 9.98880804e-01, 2.69313809e-04,\n",
              "        9.55256450e-14, 1.10051280e-06, 2.21336886e-05, 4.31983303e-11,\n",
              "        2.03596619e-06, 2.06651558e-12],\n",
              "       [5.57953911e-07, 9.98364985e-01, 3.03067587e-04, 4.44751640e-06,\n",
              "        7.98925339e-06, 1.79797553e-06, 1.77203606e-06, 1.25945080e-03,\n",
              "        5.57349267e-05, 2.15527862e-07],\n",
              "       [9.99246716e-01, 1.50194774e-06, 3.53068172e-05, 4.42936880e-06,\n",
              "        2.77974468e-05, 2.46254349e-05, 5.79660235e-04, 2.65617455e-05,\n",
              "        5.73741588e-08, 5.32730810e-05],\n",
              "       [1.04366100e-05, 5.70306380e-09, 5.94653284e-06, 2.97081471e-07,\n",
              "        9.98002350e-01, 1.56631572e-07, 7.09898268e-06, 2.40200272e-04,\n",
              "        1.71538022e-06, 1.73174753e-03]], dtype=float32)>"
            ]
          },
          "metadata": {
            "tags": []
          },
          "execution_count": 36
        }
      ]
    },
    {
      "cell_type": "code",
      "metadata": {
        "id": "LbzWa89GReUC"
      },
      "source": [
        ""
      ],
      "execution_count": null,
      "outputs": []
    }
  ]
}